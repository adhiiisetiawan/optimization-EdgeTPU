{
  "cells": [
    {
      "cell_type": "markdown",
      "metadata": {
        "id": "license"
      },
      "source": [
        "##### *Copyright 2020 Google LLC*\n",
        "*Licensed under the Apache License, Version 2.0 (the \"License\")*"
      ]
    },
    {
      "cell_type": "code",
      "execution_count": null,
      "metadata": {
        "cellView": "both",
        "id": "rKwqeqWBXANA"
      },
      "outputs": [],
      "source": [
        "# Licensed under the Apache License, Version 2.0 (the \"License\");\n",
        "# you may not use this file except in compliance with the License.\n",
        "# You may obtain a copy of the License at\n",
        "#\n",
        "# https://www.apache.org/licenses/LICENSE-2.0\n",
        "#\n",
        "# Unless required by applicable law or agreed to in writing, software\n",
        "# distributed under the License is distributed on an \"AS IS\" BASIS,\n",
        "# WITHOUT WARRANTIES OR CONDITIONS OF ANY KIND, either express or implied.\n",
        "# See the License for the specific language governing permissions and\n",
        "# limitations under the License."
      ]
    },
    {
      "cell_type": "markdown",
      "metadata": {
        "id": "hRTa3Ee15WsJ"
      },
      "source": [
        "# Retrain a classification model for Edge TPU using post-training quantization (with TF2)"
      ]
    },
    {
      "cell_type": "markdown",
      "metadata": {
        "id": "TaX0smDP7xQY"
      },
      "source": [
        "In this tutorial, we'll use TensorFlow 2 to create an image classification model, train it with a flowers dataset, and convert it to TensorFlow Lite using post-training quantization. Finally, we compile it for compatibility with the Edge TPU (available in [Coral devices](https://coral.ai/products/)).\n",
        "\n",
        "The model is based on a pre-trained version of MobileNet V2. We'll start by retraining only the classification layers, reusing MobileNet's pre-trained feature extractor layers. Then we'll fine-tune the model by updating weights in some of the feature extractor layers. This type of transfer learning is much faster than training the entire model from scratch.\n",
        "\n",
        "Once it's trained, we'll use post-training quantization to convert all parameters to int8 format, which reduces the model size and increases inferencing speed. This format is also required for compatibility on the Edge TPU.\n",
        "\n",
        "For more information about how to create a model compatible with the Edge TPU, see the [documentation at coral.ai](https://coral.ai/docs/edgetpu/models-intro/).\n",
        "\n",
        "**Note:** This tutorial requires TensorFlow 2.3+ for full quantization, which currently does not work for all types of models. In particular, this tutorial expects a Keras-built model and this conversion strategy currently doesn't work with models imported from a frozen graph. (If you're using TF 1.x, see [the 1.x version of this tutorial](https://colab.research.google.com/github/google-coral/tutorials/blob/master/retrain_classification_ptq_tf1.ipynb).)"
      ]
    },
    {
      "cell_type": "markdown",
      "metadata": {
        "id": "viewin-badges"
      },
      "source": [
        "<a href=\"https://colab.research.google.com/github/google-coral/tutorials/blob/master/retrain_classification_ptq_tf2.ipynb\" target=\"_parent\"><img src=\"https://colab.research.google.com/assets/colab-badge.svg\" alt=\"Open in Colab\"></a>\n",
        "&nbsp;&nbsp;&nbsp;&nbsp;\n",
        "<a href=\"https://github.com/google-coral/tutorials/blob/master/retrain_classification_ptq_tf2.ipynb\" target=\"_parent\"><img src=\"https://img.shields.io/static/v1?logo=GitHub&label=&color=333333&style=flat&message=View%20on%20GitHub\" alt=\"View in GitHub\"></a>\n"
      ]
    },
    {
      "cell_type": "markdown",
      "metadata": {
        "id": "BnSreNhbCQ69"
      },
      "source": [
        "To start running all the code in this tutorial, select **Runtime > Run all** in the Colab toolbar."
      ]
    },
    {
      "cell_type": "markdown",
      "metadata": {
        "id": "GTCYQg_be8C0"
      },
      "source": [
        "## Import the required libraries"
      ]
    },
    {
      "cell_type": "markdown",
      "metadata": {
        "id": "02MxhCyFmpzn"
      },
      "source": [
        "In order to quantize both the input and output tensors, we need `TFLiteConverter` APIs that are available in TensorFlow r2.3 or higher:"
      ]
    },
    {
      "cell_type": "code",
      "execution_count": 1,
      "metadata": {
        "id": "iBMcobPHdD8O"
      },
      "outputs": [],
      "source": [
        "import tensorflow as tf\n",
        "# assert float(tf.__version__[:3]) >= 2.3\n",
        "\n",
        "import os\n",
        "import numpy as np\n",
        "import matplotlib.pyplot as plt"
      ]
    },
    {
      "cell_type": "markdown",
      "metadata": {
        "id": "v77rlkCKW0IJ"
      },
      "source": [
        "## Prepare the training data"
      ]
    },
    {
      "cell_type": "markdown",
      "metadata": {
        "id": "j4QOy2uA3P_p"
      },
      "source": [
        "First let's download and organize the flowers dataset we'll use to retrain the model (it contains 5 flower classes).\n",
        "\n",
        "Pay attention to this part so you can reproduce it with your own images dataset. In particular, notice that the \"flower_photos\" directory contains an appropriately-named directory for each class. The following code randomizes and divides up the photos into training and validation sets, and generates a labels file based on the photo folder names."
      ]
    },
    {
      "cell_type": "code",
      "execution_count": 2,
      "metadata": {
        "id": "xxL2mjVVGIrV",
        "colab": {
          "base_uri": "https://localhost:8080/"
        },
        "outputId": "602f5c4f-44d9-4533-f5ab-e0ecf396f657"
      },
      "outputs": [
        {
          "output_type": "stream",
          "name": "stdout",
          "text": [
            "Downloading data from https://storage.googleapis.com/download.tensorflow.org/example_images/flower_photos.tgz\n",
            "228813984/228813984 [==============================] - 4s 0us/step\n"
          ]
        }
      ],
      "source": [
        "_URL = \"https://storage.googleapis.com/download.tensorflow.org/example_images/flower_photos.tgz\"\n",
        "\n",
        "zip_file = tf.keras.utils.get_file(origin=_URL,\n",
        "                                   fname=\"flower_photos.tgz\",\n",
        "                                   extract=True)\n",
        "\n",
        "flowers_dir = os.path.join(os.path.dirname(zip_file), 'flower_photos')\n"
      ]
    },
    {
      "cell_type": "code",
      "source": [
        "flowers_dir"
      ],
      "metadata": {
        "colab": {
          "base_uri": "https://localhost:8080/",
          "height": 35
        },
        "id": "3Oqs7dJv0WtD",
        "outputId": "bb77a216-b129-47ef-8d07-37701817a8ae"
      },
      "execution_count": 3,
      "outputs": [
        {
          "output_type": "execute_result",
          "data": {
            "text/plain": [
              "'/root/.keras/datasets/flower_photos'"
            ],
            "application/vnd.google.colaboratory.intrinsic+json": {
              "type": "string"
            }
          },
          "metadata": {},
          "execution_count": 3
        }
      ]
    },
    {
      "cell_type": "code",
      "source": [
        "os.listdir(flowers_dir)"
      ],
      "metadata": {
        "colab": {
          "base_uri": "https://localhost:8080/"
        },
        "id": "RRVk5UHP0M1C",
        "outputId": "79b6b785-9d30-4511-c9ae-d5a75f27ab9a"
      },
      "execution_count": 4,
      "outputs": [
        {
          "output_type": "execute_result",
          "data": {
            "text/plain": [
              "['sunflowers', 'tulips', 'dandelion', 'LICENSE.txt', 'daisy', 'roses']"
            ]
          },
          "metadata": {},
          "execution_count": 4
        }
      ]
    },
    {
      "cell_type": "code",
      "source": [
        "!ls /root/.keras/datasets/flower_photos/sunflowers"
      ],
      "metadata": {
        "colab": {
          "base_uri": "https://localhost:8080/"
        },
        "id": "uoV4Dgem0q1I",
        "outputId": "28325534-aff0-4acf-f44b-338591869a77"
      },
      "execution_count": 5,
      "outputs": [
        {
          "output_type": "stream",
          "name": "stdout",
          "text": [
            "1008566138_6927679c8a.jpg     22419079265_8902cddb7d_n.jpg  5032376020_2ed312306c.jpg\n",
            "1022552002_2b93faf9e7_n.jpg   22429146402_332fa2fc72_m.jpg  5037531593_e2daf4c7f1.jpg\n",
            "1022552036_67d33d5bd8_n.jpg   22429946721_e17a12cb39_n.jpg  5037790727_57c527494f.jpg\n",
            "10386503264_e05387e1f7_m.jpg  22478719251_276cb094f9_n.jpg  5042785753_392cc4e74d_n.jpg\n",
            "10386522775_4f8c616999_m.jpg  22686342422_c0b9e2f38e.jpg    5043404000_9bc16cb7e5_m.jpg\n",
            "10386525005_fd0b7d6c55_n.jpg  22755811033_cd17b109e0.jpg    5043409092_5b12cc985a_m.jpg\n",
            "10386525695_2c38fea555_n.jpg  22992257000_76dbc599e7_m.jpg  5043409856_395300dbe5_m.jpg\n",
            "10386540106_1431e73086_m.jpg  2307673262_e1e1aefd29.jpg     5067864967_19928ca94c_m.jpg\n",
            "10386540696_0a95ee53a8_n.jpg  23204123212_ef32fbafbe.jpg    5069564563_ae03792c3c_m.jpg\n",
            "10386702973_e74a34c806_n.jpg  23247483352_0defc7a6dc_n.jpg  5076821914_c21b58fd4c_m.jpg\n",
            "1043442695_4556c4c13d_n.jpg   2328600790_90e2942557_n.jpg   50987813_7484bfbcdf.jpg\n",
            "1044296388_912143e1d4.jpg     23286304156_3635f7de05.jpg    5139969631_743880e01d_n.jpg\n",
            "1064662314_c5a7891b9f_m.jpg   23356825566_f5885875f2.jpg    5139969871_c9046bdaa7_n.jpg\n",
            "10862313945_e8ed9202d9_m.jpg  235651658_a7b3e7cbdd.jpg\t    5139971615_434ff8ed8b_n.jpg\n",
            "11881770944_22b4f2f8f6_n.jpg  23645265812_24352ff6bf.jpg    5139977283_530c508603_n.jpg\n",
            "1217254584_4b3028b93d.jpg     23894449029_bf0f34d35d_n.jpg  5139977423_d413b23fde_m.jpg\n",
            "12282924083_fb80aa17d4_n.jpg  2425164088_4a5d2cdf21_n.jpg   5139977579_ea2dd6a322_m.jpg\n",
            "1240624822_4111dde542.jpg     244074259_47ce6d3ef9.jpg\t    5223643767_d8beb7e410.jpg\n",
            "1240625276_fb3bd0c7b1.jpg     2442985637_8748180f69.jpg     5231868667_f0baa71feb_n.jpg\n",
            "1240626292_52cd5d7fb1_m.jpg   2443095419_17b920d155_m.jpg   5293283002_9b17f085f7_m.jpg\n",
            "1244774242_25a20d99a9.jpg     2443921986_d4582c123a.jpg     5330608174_b49f7a4c48_m.jpg\n",
            "12471290635_1f9e3aae16_n.jpg  24459548_27a783feda.jpg\t    5339004958_a0a6f385fd_m.jpg\n",
            "12471441503_d188b5f31a_m.jpg  24459750_eb49f6e4cb_m.jpg     5357144886_b78f4782eb.jpg\n",
            "12471443383_b71e7a7480_m.jpg  253586685_ee5b5f5232.jpg\t    5437996076_cf7e2ac32e_n.jpg\n",
            "12471791574_bb1be83df4.jpg    2575272111_f04d79b9af_n.jpg   5492906452_80943bfd04.jpg\n",
            "1267876087_a1b3c63dc9.jpg     2588234269_c4bfd0d8b9_n.jpg   5526324308_b333da0e57_n.jpg\n",
            "127192624_afa3d9cb84.jpg      2588453601_66f2a03cca_n.jpg   5556633113_0a04f5ed8a_n.jpg\n",
            "1297092593_e573c0a3d6.jpg     2598973480_07de93e91d_n.jpg   5738580862_e128192f75.jpg\n",
            "13095941995_9a66faa713_n.jpg  2619000556_6634478e64_n.jpg   5830614551_e460a1215c.jpg\n",
            "13096076565_72c2c60875_n.jpg  26254755_1bfc494ef1_n.jpg     58636535_bc53ef0a21_m.jpg\n",
            "13117907313_86c99c6441.jpg    265422922_bbbde781d2_m.jpg    5896354497_6a19162741.jpg\n",
            "1314584013_fe935fdeb1_n.jpg   265450085_6e9f276e2e.jpg\t    5917253022_4e3142d48b_n.jpg\n",
            "13354458753_7b586f7c95_n.jpg  2678588376_6ca64a4a54_n.jpg   5923085671_f81dd1cf6f.jpg\n",
            "13648603305_1268eda8b7_n.jpg  2689228449_e0be72cf00_n.jpg   5923085891_27617463fe.jpg\n",
            "1379256773_bb2eb0d95b_n.jpg   2694860538_b95d60122c_m.jpg   5923649444_a823e534e9.jpg\n",
            "13959937305_2f5c532886_n.jpg  2697194548_ec8f8de97c_n.jpg   5927432662_3ffd2461c2_n.jpg\n",
            "14121915990_4b76718077_m.jpg  2706304885_4916102704_n.jpg   5951665793_8ae4807cbd_n.jpg\n",
            "14144522269_bc20029375_m.jpg  2706736074_b0fba20b3e.jpg     5952223760_85972671d6_n.jpg\n",
            "1419608016_707b887337_n.jpg   2720698862_486d3ec079_m.jpg   5955475577_3d923874d9_n.jpg\n",
            "14244273988_a7484f18b7_m.jpg  2721638730_34a9b7a78b.jpg     5955500463_6c08cb199e.jpg\n",
            "14244410747_22691ece4a_n.jpg  2723995667_31f32294b4.jpg     5955501969_e42f038a6f_n.jpg\n",
            "14266917699_91b207888e.jpg    2729206569_9dd2b5a3ed.jpg     5957007921_62333981d2_n.jpg\n",
            "14348961225_09bd803317_n.jpg  2733109082_1351f6738a_n.jpg   5966729883_67f4fede93.jpg\n",
            "14397276020_49f9423614.jpg    27465811_9477c9d044.jpg\t    5967283168_90dd4daf28_n.jpg\n",
            "14460075029_5cd715bb72_m.jpg  27466794_57e4fe5656.jpg\t    5967284308_85714d8cf7_m.jpg\n",
            "14460081668_eda8795693_m.jpg  274846229_990e976683_n.jpg    5970300143_36b42437de_n.jpg\n",
            "14472246629_72373111e6_m.jpg  274848710_5185cf33b1_n.jpg    5970301989_fe3a68aac8_m.jpg\n",
            "145303599_2627e23815_n.jpg    2759796022_55bd47bfa2_n.jpg   5970868068_fe1c8b282e_n.jpg\n",
            "14623719696_1bb7970208_n.jpg  2767658405_1e2043f44c_n.jpg   5970869550_d7d9fabebd_n.jpg\n",
            "14623720226_aeeac66e0a_n.jpg  2767688889_b176b0c3fb.jpg     5973935729_2868f2db1f_n.jpg\n",
            "14646279002_9cdf97be97_n.jpg  2803725948_5fd1f2fc99_n.jpg   5979111025_3bcae48ae6_n.jpg\n",
            "14646280372_dd50be16e4_n.jpg  2807106374_f422b5f00c.jpg     5979111199_495884b578_n.jpg\n",
            "14646281372_5f13794b47.jpg    2816256710_a2d3616fae.jpg     5979111555_61b400c070_n.jpg\n",
            "14646282112_447cc7d1f9.jpg    2816503473_580306e772.jpg     5979668702_fdaec9e164_n.jpg\n",
            "14646283472_50a3ae1395.jpg    2823659190_afdabee45c.jpg     5979669004_d9736206c9_n.jpg\n",
            "14678298676_6db8831ee6_m.jpg  287233531_74d4605814_m.jpg    5994569021_749d5e2da3_n.jpg\n",
            "14698136411_23bdcff7bf_n.jpg  2883115609_5a69357b5d_m.jpg   5994572653_ea98afa3af_n.jpg\n",
            "14741812319_e1d32ffb84_n.jpg  2883115621_4837267ea1_m.jpg   5994586159_1dd99d66b4_n.jpg\n",
            "14741813010_5d44e33088_n.jpg  2894191705_a1d2d80c80.jpg     5995136822_8e1eed76f5_n.jpg\n",
            "14741813110_94964c39e2_n.jpg  2895404754_6d9f9416d7_n.jpg   5998488415_a6bacd9f83.jpg\n",
            "14741866338_bdc8bfc8d5_n.jpg  2927020075_54c9186797_n.jpg   5999024446_5721493894.jpg\n",
            "14741907467_fab96f3b2b_n.jpg  2940221732_3507f3e927_n.jpg   6042014768_b57f0bfc79_n.jpg\n",
            "147804446_ef9244c8ce_m.jpg    2944298800_1984bd4f8a_m.jpg   6050020905_881295ac72_n.jpg\n",
            "14814264272_4b39a102f9_n.jpg  2949654221_909b0c86a1_n.jpg   6053739964_a1d9ab3ed1_n.jpg\n",
            "1484598527_579a272f53.jpg     2950505226_529e013bf7_m.jpg   6061175433_95fdb12f32_n.jpg\n",
            "1485456230_58d8e45e88.jpg     2960610406_b61930727f_n.jpg   6061177447_d8ce96aee0.jpg\n",
            "14858674096_ed0fc1a130.jpg    2979133707_84aab35b5d.jpg     6074427492_1b5bab7848_n.jpg\n",
            "14881304632_54a9dfb8be.jpg    2979297519_17a08b37f6_m.jpg   6080086410_17a02dcfb8.jpg\n",
            "14889392928_9742aed45b_m.jpg  2980154410_bffd7a3452_n.jpg   6104713425_8a3277e34a.jpg\n",
            "14889779907_3d401bbac7_m.jpg  2996573407_5e473b9359.jpg     6112510436_9fe06e695a_n.jpg\n",
            "14901528533_ac1ce09063.jpg    29972905_4cc537ff4b_n.jpg     6116210027_61923f4b64.jpg\n",
            "14921668662_3ffc5b9db3_n.jpg  3001531316_efae24d37d_n.jpg   6122711533_2c219f0392_n.jpg\n",
            "14925397351_c7f209d804_n.jpg  3001533700_1c62fb8b4a_n.jpg   6125761554_4e72819ce4_m.jpg\n",
            "14925397651_97dcddc383_n.jpg  3001536784_3bfd101b23_n.jpg   6133988570_9dc778e622_m.jpg\n",
            "14925397761_46ecfa24e0.jpg    3062794421_295f8c2c4e.jpg     6140661443_bb48344226.jpg\n",
            "14925398301_55a180f919_n.jpg  310380634_60e6c79989.jpg\t    6140693467_211a135b6d.jpg\n",
            "14925398441_107f3e0304_n.jpg  3146795631_d062f233c1.jpg     6140808687_88df0fd733.jpg\n",
            "14928117202_139d2142cc_n.jpg  3154932076_eff5c38231_n.jpg   6140892289_92805cc590.jpg\n",
            "14932787983_d6e05f2434_m.jpg  3154932290_4bf43bd34f_n.jpg   6141150299_b46a64e4de.jpg\n",
            "14955545254_324cd4ee75.jpg    3196753837_411b03682d_n.jpg   6141199476_9b6d383fd9.jpg\n",
            "14969295739_c132a08663_n.jpg  3311874685_7b9ef10f7e_m.jpg   6145005439_ef6e07f9c6_n.jpg\n",
            "15026703621_e15e9d55f0_n.jpg  3334350831_f8755a2095_n.jpg   6166888942_7058198713_m.jpg\n",
            "15030133005_9728102622_z.jpg  3466923719_b4b6df7f8b_n.jpg   6198569425_e953b9e6cc_m.jpg\n",
            "15042911059_b6153d94e7_n.jpg  3514340206_efb8198a80_n.jpg   6198569587_23c3693328_m.jpg\n",
            "15043962658_dcf9dff5e9_n.jpg  35477171_13cb52115c_n.jpg     6199086734_b7ddc65816_m.jpg\n",
            "15054750690_198b6ab0f2_n.jpg  3568114325_d6b1363497.jpg     6204049536_1ac4f09232_n.jpg\n",
            "15054751430_5af76f6096_n.jpg  3568925290_faf7aec3a0.jpg     6239758929_50e5e5a476_m.jpg\n",
            "15054752730_fcf54d475e_m.jpg  3575811488_a31714472a.jpg     6250692311_cb60c85ee9_n.jpg\n",
            "15054753070_4f6ae0e763_m.jpg  3594967811_697184b026_n.jpg   6265084065_7a8b30cc6e_n.jpg\n",
            "15054864058_2edca122a9_n.jpg  3596902268_049e33a2cb_n.jpg   6482016425_d8fab362f6.jpg\n",
            "15054864508_0334b892be_m.jpg  3665455426_9cd1c3af4a_n.jpg   6482016439_b0d06dac04.jpg\n",
            "15054865217_e398d0dc9f_n.jpg  3681233294_4f06cd8903.jpg     6495554833_86eb8faa8e_n.jpg\n",
            "15054865768_2cc87ac9d4_m.jpg  3683873444_be4a609c46.jpg     6495559397_61d01c0c57.jpg\n",
            "15054866658_c1a6223403_m.jpg  3731075939_6c92d7fe68_m.jpg   6606741847_f0198d83ff.jpg\n",
            "15054866898_60ee50ec6b_n.jpg  3734999477_7f454081aa_n.jpg   6606743797_c90c669757.jpg\n",
            "15066430311_fb57fa92b0_m.jpg  3749090865_b90f28a585_n.jpg   6606746467_a668c8d417.jpg\n",
            "15069459615_7e0fd61914_n.jpg  3749091071_c146b33c74_n.jpg   6606749757_b98a4ba403.jpg\n",
            "15072973261_73e2912ef2_n.jpg  3766264038_ea701c7131_n.jpg   6606753075_72ee32aa30_m.jpg\n",
            "15081164641_45a7b92b3a_m.jpg  3784815653_5df39aa9c2_m.jpg   6606806621_5267acdd38.jpg\n",
            "15108515192_f686dce398_n.jpg  3798841385_38142ea3c6_n.jpg   6606809995_edee55b770_m.jpg\n",
            "15118243470_7e0a7f159c_n.jpg  3815322974_52c12dbde3.jpg     6606813305_c992231d29_m.jpg\n",
            "15118397087_bfb7ea70d5_n.jpg  3832945398_96509d192b.jpg     6606815161_3c4372760f.jpg\n",
            "15122112402_cafa41934f.jpg    3838274225_36010c6254_n.jpg   6606817351_10f6e43a09.jpg\n",
            "15122871130_6a7d0b4372_n.jpg  3840761441_7c648abf4d_n.jpg   6606820461_952c450f90_n.jpg\n",
            "15123604714_dd034a4a3b_n.jpg  3846717708_ea11383ed8.jpg     6606823367_e89dc52a95_n.jpg\n",
            "151898652_b5f1c70b98_n.jpg    3846907701_e13b66aa87.jpg     6627521877_6e43fb3c49_m.jpg\n",
            "15191613243_82ee8e0fe8.jpg    3848405800_8eea982c40.jpg     678714585_addc9aaaef.jpg\n",
            "15207507116_8b7f894508_m.jpg  3858508462_db2b9692d1.jpg     6866250080_ae80df0cd5_m.jpg\n",
            "15218421476_9d5f38e732_m.jpg  3865206264_5d81584bba.jpg     6908789145_814d448bb1_n.jpg\n",
            "15218871222_c104032ca1.jpg    3883895985_bd20198371.jpg     6953297_8576bf4ea3.jpg\n",
            "15238348741_c2fb12ecf2_m.jpg  3893436870_034b79d118_n.jpg   6958724008_12259943a7.jpg\n",
            "15240466871_ec45b65554_m.jpg  3894586562_5dbbdc4354_n.jpg   7012364067_5ffc7654c9_m.jpg\n",
            "15241052342_466b38b68d.jpg    3897174387_07aac6bf5f_n.jpg   7012366081_019c8a17a4_m.jpg\n",
            "15241431045_65201cf15a_n.jpg  3912497870_a2f91c3a65_n.jpg   7176723954_e41618edc1_n.jpg\n",
            "15243175532_ac28c48e14_m.jpg  3912497888_e7a5905bc3_n.jpg   7176729016_d73ff2211e.jpg\n",
            "15266715291_dfa3f1d49f_n.jpg  3922005347_7b6fb82fcd.jpg     7176729812_7c053921fb_m.jpg\n",
            "15380755137_a2e67839ab_m.jpg  39271782_b4335d09ae_n.jpg     7176736574_14446539cb_n.jpg\n",
            "15460162172_014bcce403.jpg    3950020811_dab89bebc0_n.jpg   7270375648_79f0caef42_n.jpg\n",
            "15472217046_2699b25584.jpg    3951246342_930138610b_n.jpg   7369484298_332f69bd88_n.jpg\n",
            "15493195788_60530f2398_m.jpg  4019748730_ee09b39a43.jpg     7510240282_87554c7418_n.jpg\n",
            "15495578821_92c6d14252_n.jpg  40410686_272bc66faf_m.jpg     7510262868_cf7d6f6f25_n.jpg\n",
            "15495579081_661cb260d1_n.jpg  40410814_fba3837226_n.jpg     7510285306_ba8f80c382_n.jpg\n",
            "15683877266_42e0fe3782_n.jpg  40410963_3ac280f23a_n.jpg     7530313068_ddd2dc1f44_m.jpg\n",
            "15745084272_36402f5ee6_n.jpg  40411019_526f3fc8d9_m.jpg     7581713708_8eae6794f2.jpg\n",
            "15839183375_49bf4f75e8_m.jpg  40411100_7fbe10ec0f_n.jpg     7586498522_4dcab1c8d2_m.jpg\n",
            "1596293240_2d5b53495a_m.jpg   4042816698_578a1d599e.jpg     7603036176_9e8967cd21.jpg\n",
            "15973657966_d6f6005539_n.jpg  4080112931_cb20b3d51a_n.jpg   7652532108_01ef94c476.jpg\n",
            "16143151468_4f3c033e33.jpg    4110787181_f73f12d107_m.jpg   7654774598_6b715a8d3e.jpg\n",
            "164668737_aeab0cb55e_n.jpg    4160805260_cf758daeae_n.jpg   7721658400_0dec46d225.jpg\n",
            "164670176_9f5b9c7965.jpg      417251603_69f0ee57a9_m.jpg    7728953426_abd179ab63.jpg\n",
            "164670455_29d8e02bbd_n.jpg    418056361_1dfac1c151_n.jpg    7791014076_07a897cb85_n.jpg\n",
            "164671753_ab36d9cbb7_n.jpg    4186808407_06688641e2_n.jpg   7804213238_1d92ae5edb_m.jpg\n",
            "164672339_f2b5b164f6.jpg      4191299785_a4faca9b74_n.jpg   7820305664_82148f3bfb_n.jpg\n",
            "16616096711_12375a0260_n.jpg  4235259239_21f2eb4f2e.jpg     7820398908_4316bbba45.jpg\n",
            "16656015339_2ccb7cd18d.jpg    4271193206_666ef60aa0_m.jpg   7820523050_76c8caa025.jpg\n",
            "16832961488_5f7e70eb5e_n.jpg  4341530649_c17bbc5d01.jpg     7820626738_3be6a52e4e_n.jpg\n",
            "16967372357_15b1b9a812_n.jpg  4398771472_44f2a0c162_n.jpg   7857605684_fc86440c23.jpg\n",
            "16975010069_7afd290657_m.jpg  44079668_34dfee3da1_n.jpg     7935826214_9b57628203_m.jpg\n",
            "16988605969_570329ff20_n.jpg  4414080766_5116e8084e.jpg     8014734302_65c6e83bb4_m.jpg\n",
            "17148843706_df148301ac_n.jpg  4414081772_8a0e8a1327.jpg     8014735546_3db46bb1fe_n.jpg\n",
            "1715303025_e7065327e2.jpg     4414083164_3f285f8ac5.jpg     8021568040_f891223c44_n.jpg\n",
            "17433282043_441b0a07f4_n.jpg  4414084638_03d2db38ae.jpg     8038712786_5bdeed3c7f_m.jpg\n",
            "175638423_058c07afb9.jpg      4489516263_e49fe82637_n.jpg   8041242566_752def876e_n.jpg\n",
            "1788133737_b1133d1aa7.jpg     45045003_30bbd0a142_m.jpg     8071460469_a7c2c34b97_n.jpg\n",
            "18097401209_910a46fae1_n.jpg  45045005_57354ee844.jpg\t    8081530919_c882d46bb0_n.jpg\n",
            "18237156988_9ceb46a8de_n.jpg  4528959364_fa544b0f4e_m.jpg   8174935013_b16626b49b.jpg\n",
            "18237215308_a158d49f28_n.jpg  4623843480_23e3fb8dcc_n.jpg   8174935717_d19367d502.jpg\n",
            "18250039435_7654bc11be_n.jpg  4625255191_26e17a28c9_n.jpg   8174941335_56389b53e9_n.jpg\n",
            "184682095_46f8607278.jpg      4626721387_88f89d5cc9_n.jpg   8174970894_7f9a26be7e.jpg\n",
            "184682320_73ccf74710.jpg      4664737020_b4c61aacd3_n.jpg   8174972548_0051c2d431.jpg\n",
            "184682506_8a9b8c662d.jpg      4664767140_fe01231322_n.jpg   8192234807_fed4a46f1a_n.jpg\n",
            "184682652_c927a49226_m.jpg    4673984698_6ec14d5b79.jpg     8202034834_ee0ee91e04_n.jpg\n",
            "184682920_97ae41ce60_m.jpg    4689061249_6498da5013.jpg     821368661_4ab4343f5a.jpg\n",
            "184683023_737fec5b18.jpg      4745980581_a0b7585258_n.jpg   8234846550_fdaf326dbe.jpg\n",
            "18766965343_9f42d4bedc_m.jpg  4745985619_249078cafa_n.jpg   8249000137_eddfffa380_n.jpg\n",
            "1880606744_23e3dc4f6b_n.jpg   4745991955_6804568ae0_n.jpg   8265023280_713f2c69d0_m.jpg\n",
            "18828277053_1493158b28.jpg    4746638094_f5336788a0_n.jpg   8266310743_02095e782d_m.jpg\n",
            "18828283553_e46504ae38.jpg    4746643626_02b2d056a2_n.jpg   8292914969_4a76608250_m.jpg\n",
            "18843967474_9cb552716b.jpg    4746648726_e37a2de16d_n.jpg   8368015811_2893411cf7_n.jpg\n",
            "18972803569_1a0634f398_m.jpg  4746668678_0e2693b1b9_n.jpg   8478248531_1a16e232b5.jpg\n",
            "19349582128_68a662075e_n.jpg  4755075329_1fccc69d4e.jpg     8480886751_71d88bfdc0_n.jpg\n",
            "19359539074_d7e32e6616_n.jpg  4755705724_976621a1e7.jpg     8481979626_98c9f88848_n.jpg\n",
            "193874852_fb633d8d00_n.jpg    4804434999_bf2187e96a_n.jpg   8543642705_b841b0e5f6.jpg\n",
            "193878348_43571127b9_n.jpg    4805544785_a63241f6d0_n.jpg   8563099326_8be9177101.jpg\n",
            "19442589512_e733cfea0f.jpg    4806174512_e04475b766_n.jpg   857698097_8068a2c135_n.jpg\n",
            "19453165201_2aa747e0bf.jpg    4813483281_f3707a71e7_n.jpg   864957037_c75373d1c5.jpg\n",
            "19504937128_a4ae90fcbd_m.jpg  4814106562_7c3564d2d9_n.jpg   8705462313_4458d64cd4.jpg\n",
            "19508264965_d1dfb565ea_n.jpg  4816636411_0135bfe2c9_n.jpg   877083343_e3338c4125.jpg\n",
            "19519101829_46af0b4547_m.jpg  4818994715_9d90527d18_n.jpg   8928614683_6c168edcfc.jpg\n",
            "19595718862_c68896370c_m.jpg  4821232343_7e0bcfbfdf_n.jpg   8928658373_fdca5ff1b8.jpg\n",
            "19697910486_0086d893a2.jpg    4831577091_f56157a5d5_n.jpg   8929213942_5544191250_n.jpg\n",
            "197011740_21825de2bf.jpg      4846786944_2832c5c8b8.jpg     8929274876_17efc1774a_n.jpg\n",
            "19710076021_f5bb162540.jpg    4847062576_bae870479c_n.jpg   8929288228_6795bcb1fe.jpg\n",
            "19710925313_31682fa22b_m.jpg  4848279231_c4960e28b2_n.jpg   9056495873_66e351b17c_n.jpg\n",
            "19756232959_17cde3b9f0_m.jpg  4868595281_1e58083785.jpg     9111896677_ff0b6fa6f6_n.jpg\n",
            "19784656639_cd7f0a4a26_m.jpg  4869189730_f47c124cda_n.jpg   9206376642_8348ba5c7a.jpg\n",
            "19915160340_ec904edbdf_n.jpg  4871455214_8b5fb87ab6_n.jpg   9213511121_836a458021_m.jpg\n",
            "200011914_93f57ed68b.jpg      4872284527_ff52128b97.jpg     9216286162_6ceefdd1b4_m.jpg\n",
            "20022771089_3cc7e5086d_m.jpg  4872892690_52dc25b0b4.jpg     9216286876_289a4779f7.jpg\n",
            "200288046_0032f322ff_n.jpg    4877195645_791c3a83b9_m.jpg   9231555352_d2dd8f8e68_m.jpg\n",
            "200557977_bf24d9550b.jpg      4878447831_e904c60cf8_n.jpg   9240005603_6a9b71dcea_n.jpg\n",
            "200557979_a16112aac1_n.jpg    4890268276_563f40a193.jpg     9240129413_f240ce7866_n.jpg\n",
            "200557981_f800fa1af9.jpg      4893660821_eb7f02bef3_n.jpg   9246304620_768d1f54d7_n.jpg\n",
            "200557983_10a88672fc.jpg      4895122831_83db2ba2d0_n.jpg   9302733302_2cb92cf275.jpg\n",
            "20078409301_aa8061bd0b_n.jpg  4895124535_11a2bb704c_m.jpg   9309473873_9d62b9082e.jpg\n",
            "20148493928_9f75a99783.jpg    4895718876_0246882882_n.jpg   9339697826_88c9c4dc50.jpg\n",
            "20156280765_a6baea3176.jpg    4895719476_bd3b6bd6fd_n.jpg   9359374034_21fb12d613_n.jpg\n",
            "20171662239_f69b6c12bd_n.jpg  4895720722_8247f2015b_n.jpg   9375675309_987d32f99e_n.jpg\n",
            "201809908_0ef84bb351.jpg      4895721242_89014e723c_n.jpg   9381481549_5a5d503e42_n.jpg\n",
            "20183028616_beb937e75c_m.jpg  4895721788_f10208ab77_n.jpg   9384867134_83af458a19_n.jpg\n",
            "20183071136_c297e74fcc_m.jpg  4914793782_d0ea760791.jpg     9399711558_7cb9547cd3_n.jpg\n",
            "20258015499_93b9951800_m.jpg  4927658421_7eed83bc95_m.jpg   9410186154_465642ed35.jpg\n",
            "20342824594_9740b7b160.jpg    4932143849_018486cbf7.jpg     9427945592_07a2676945_n.jpg\n",
            "20344282483_05abb0b837.jpg    4932144003_cbffc89bf0.jpg     9431890901_cd11bda584_n.jpg\n",
            "20344366953_44fb51051b.jpg    4932735362_6e1017140f.jpg     9431896325_23bf6e8761.jpg\n",
            "20406385204_469f6749e2_n.jpg  4932735566_2327bf319a.jpg     9432335346_e298e47713_n.jpg\n",
            "20407896403_a50fef58ac_n.jpg  4932736136_0115955987.jpg     9445830851_e9a126fd1d_n.jpg\n",
            "20410533613_56da1cce7c.jpg    4932736308_827012cff2.jpg     9448615838_04078d09bf_n.jpg\n",
            "20410697750_c43973d1eb.jpg    4933228903_9ae82d0b9d.jpg     9460336948_6ae968be93.jpg\n",
            "20481273479_d459834a3e_n.jpg  4933229095_f7e4218b28.jpg     9461693602_710f20904f.jpg\n",
            "20621698991_dcb323911d.jpg    4933229197_ff75a40d55.jpg     9481563239_01b585b41d_n.jpg\n",
            "20658775992_1619cd0a9b_n.jpg  4933229357_1c5cc03f65_m.jpg   9482209981_bf7bf6022b_m.jpg\n",
            "20667988875_6e73ac2879_n.jpg  4933229479_c1708bd503.jpg     9483429732_5ae73eb672_n.jpg\n",
            "2067882323_8de6623ffd.jpg     4933229561_881d4673e7_m.jpg   9484354480_07ff2ef0a6.jpg\n",
            "20704967595_a9c9b8d431.jpg    4933229889_c5d9e36392.jpg     9485002920_59af6f4cac.jpg\n",
            "20753711039_0b11d24b50_n.jpg  4933230161_12f3ee7587.jpg     9491955955_d0b2c83834.jpg\n",
            "20777358950_c63ea569a1.jpg    4933230247_a0432f01da.jpg     9497774249_7f5ae70927_m.jpg\n",
            "20777375650_ef854bf645.jpg    4933230395_7930697335_m.jpg   9497774935_a7daec5433_n.jpg\n",
            "20871601265_daa4be4291_n.jpg  4933230547_394f618009_m.jpg   9511172241_8aee411e2e.jpg\n",
            "20905163782_312e2c3bda_n.jpg  4933230991_d50c0f7c66.jpg     9535500195_543d0b729b.jpg\n",
            "20965412955_2c640b13bd.jpg    4933821940_38064522a8.jpg     9538283930_0faea083bb_n.jpg\n",
            "20972862281_5367f4af88.jpg    4933822052_2dfef02517.jpg     9555824387_32b151e9b0_m.jpg\n",
            "20972866151_e6a928b00a.jpg    4933822272_79af205b94.jpg     9555827829_74e6f60f1d_m.jpg\n",
            "210076535_80951bc5d5.jpg      4933822422_4f54fc7cc8.jpg     9558627290_353a14ba0b_m.jpg\n",
            "21134000558_d7d6c9b1fe_n.jpg  4933823194_33f6e32c5a.jpg     9558628596_722c29ec60_m.jpg\n",
            "21349789961_18ba1af5b7_n.jpg  4933823300_39fd4420b6.jpg     9558630626_52a1b7d702_m.jpg\n",
            "21374127408_5ffbe87bb2.jpg    4933823922_911ac40b0d.jpg     9558632814_e78a780f4f.jpg\n",
            "21518663809_3d69f5b995_n.jpg  4933824012_8cbfe606f6.jpg     9564240106_0577e919da_n.jpg\n",
            "215798352_184d8040d1.jpg      4933824130_b99839a80d.jpg     9588522189_db6166f67f.jpg\n",
            "215798354_429de28c2d.jpg      4940287066_385afd9c18_m.jpg   9599534035_ae4df582b6.jpg\n",
            "215798357_3f4bfa27b7.jpg      4942258704_c4146b710a_n.jpg   9610098411_f1613c8e14.jpg\n",
            "21728822928_9f6817325a_n.jpg  4977385375_e271e282f9.jpg     9610371852_179e7781ce.jpg\n",
            "21796333524_38fc8e0ab5_n.jpg  4980406384_791774d953.jpg     9610373158_5250bce6ac_n.jpg\n",
            "21821266773_7113d34c35_m.jpg  4989952542_35f2cdd5e2_n.jpg   9610373748_b9cb67bd55.jpg\n",
            "21984860006_20dfacea1c_m.jpg  5004121118_e9393e60d0_n.jpg   9610374042_bb16cded3d.jpg\n",
            "21995435890_e5672244a4_m.jpg  5007598545_90e08e81c1_n.jpg   9651392844_77f90589ba_n.jpg\n",
            "22183521655_56221bf2a4_n.jpg  5015462205_440898fe41_n.jpg   9655029591_7a77f87500.jpg\n",
            "22183529245_ce13557515_m.jpg  5018120483_cc0421b176_m.jpg   9681915384_b3b646dc92_m.jpg\n",
            "22203670478_9ec5c2700b_n.jpg  5020805135_1219d7523d.jpg     969913643_9d5cd2fe45_m.jpg\n",
            "22255608949_172d7c8d22_m.jpg  5020805619_6c710793f7.jpg     9699724719_a8439cc0fd_n.jpg\n",
            "22405882322_d4561f8469_n.jpg  5025805406_033cb03475_n.jpg   9783416751_b2a03920f7_n.jpg\n",
            "22405887122_75eda1872f_m.jpg  5027895361_ace3b731e5_n.jpg   9825716455_f12bcc8d4e_n.jpg\n",
            "22416421196_caf131c9fa_m.jpg  5028817729_f04d32bac8_n.jpg   9904127656_f76a5a4811_m.jpg\n"
          ]
        }
      ]
    },
    {
      "cell_type": "markdown",
      "metadata": {
        "id": "z4gTv7ig2vMh"
      },
      "source": [
        "Next, we use [`ImageDataGenerator`](https://www.tensorflow.org/api_docs/python/tf/keras/preprocessing/image/ImageDataGenerator) to rescale the image data into float values (divide by 255 so the tensor values are between 0 and 1), and call `flow_from_directory()` to create two generators: one for the training dataset and one for the validation dataset.\n"
      ]
    },
    {
      "cell_type": "code",
      "execution_count": 6,
      "metadata": {
        "id": "aCLb_yV5JfF3",
        "colab": {
          "base_uri": "https://localhost:8080/"
        },
        "outputId": "676ac5bd-4b9d-4613-8aac-517dddac78ba"
      },
      "outputs": [
        {
          "output_type": "stream",
          "name": "stdout",
          "text": [
            "Found 2939 images belonging to 5 classes.\n",
            "Found 731 images belonging to 5 classes.\n"
          ]
        }
      ],
      "source": [
        "IMAGE_SIZE = 224\n",
        "BATCH_SIZE = 64\n",
        "\n",
        "datagen = tf.keras.preprocessing.image.ImageDataGenerator(\n",
        "    rescale=1./255,\n",
        "    validation_split=0.2)\n",
        "\n",
        "train_generator = datagen.flow_from_directory(\n",
        "    flowers_dir,\n",
        "    target_size=(IMAGE_SIZE, IMAGE_SIZE),\n",
        "    batch_size=BATCH_SIZE,\n",
        "    subset='training')\n",
        "\n",
        "val_generator = datagen.flow_from_directory(\n",
        "    flowers_dir,\n",
        "    target_size=(IMAGE_SIZE, IMAGE_SIZE),\n",
        "    batch_size=BATCH_SIZE,\n",
        "    subset='validation')"
      ]
    },
    {
      "cell_type": "markdown",
      "metadata": {
        "id": "VePDZC5Bh2mO"
      },
      "source": [
        "\n",
        "On each iteration, these generators provide a batch of images by reading images from disk and processing them to the proper tensor size (224 x 224). The output is a tuple of (images, labels). For example, you can see the shapes here:"
      ]
    },
    {
      "cell_type": "code",
      "execution_count": 7,
      "metadata": {
        "id": "tx1L7fxxWA_G",
        "colab": {
          "base_uri": "https://localhost:8080/"
        },
        "outputId": "92e6961c-64f9-4f9c-8265-b86ee4a31f86"
      },
      "outputs": [
        {
          "output_type": "execute_result",
          "data": {
            "text/plain": [
              "((64, 224, 224, 3), (64, 5))"
            ]
          },
          "metadata": {},
          "execution_count": 7
        }
      ],
      "source": [
        "image_batch, label_batch = next(val_generator)\n",
        "image_batch.shape, label_batch.shape"
      ]
    },
    {
      "cell_type": "markdown",
      "metadata": {
        "id": "ZrFFcwUb3iK9"
      },
      "source": [
        "Now save the class labels to a text file:"
      ]
    },
    {
      "cell_type": "code",
      "execution_count": 8,
      "metadata": {
        "id": "-QFZIhWs4dsq",
        "colab": {
          "base_uri": "https://localhost:8080/"
        },
        "outputId": "d16c4f2f-852f-4368-af3f-5a3039e999b8"
      },
      "outputs": [
        {
          "output_type": "stream",
          "name": "stdout",
          "text": [
            "{'daisy': 0, 'dandelion': 1, 'roses': 2, 'sunflowers': 3, 'tulips': 4}\n"
          ]
        }
      ],
      "source": [
        "print (train_generator.class_indices)\n",
        "\n",
        "labels = '\\n'.join(sorted(train_generator.class_indices.keys()))\n",
        "\n",
        "with open('flower_labels.txt', 'w') as f:\n",
        "  f.write(labels)"
      ]
    },
    {
      "cell_type": "code",
      "execution_count": 9,
      "metadata": {
        "id": "duxD_UDSOmng",
        "colab": {
          "base_uri": "https://localhost:8080/"
        },
        "outputId": "ad7994c6-afb4-4897-d139-778d42ef819d"
      },
      "outputs": [
        {
          "output_type": "stream",
          "name": "stdout",
          "text": [
            "daisy\n",
            "dandelion\n",
            "roses\n",
            "sunflowers\n",
            "tulips"
          ]
        }
      ],
      "source": [
        "!cat flower_labels.txt"
      ]
    },
    {
      "cell_type": "markdown",
      "metadata": {
        "id": "OkH-kazQecHB"
      },
      "source": [
        "## Build the model\n",
        "\n",
        "Now we'll create a model that's capable of transfer learning on just the last fully-connected layer.\n",
        "\n",
        "We'll start with MobileNet V2 from Keras as the base model, which is pre-trained with the ImageNet dataset (trained to recognize 1,000 classes). This provides us a great feature extractor for image classification and we can then train a new classification layer with our flowers dataset.\n",
        "\n"
      ]
    },
    {
      "cell_type": "markdown",
      "metadata": {
        "id": "AtYKxmW4kS-D"
      },
      "source": [
        "### Create the base model\n",
        "\n",
        "When instantiating the `MobileNetV2` model, we specify the `include_top=False` argument in order to load the network *without* the classification layers at the top. Then we set `trainable` false to freeze all the weights in the base model. This effectively converts the model into a feature extractor because all the pre-trained weights and biases are preserved in the lower layers when we begin training for our classification head."
      ]
    },
    {
      "cell_type": "code",
      "execution_count": 10,
      "metadata": {
        "id": "19IQ2gqneqmS",
        "colab": {
          "base_uri": "https://localhost:8080/"
        },
        "outputId": "4646d076-eea1-4659-90b9-e7c2bc7d3403"
      },
      "outputs": [
        {
          "output_type": "stream",
          "name": "stdout",
          "text": [
            "Downloading data from https://storage.googleapis.com/tensorflow/keras-applications/mobilenet_v2/mobilenet_v2_weights_tf_dim_ordering_tf_kernels_1.0_224_no_top.h5\n",
            "9406464/9406464 [==============================] - 0s 0us/step\n"
          ]
        }
      ],
      "source": [
        "IMG_SHAPE = (IMAGE_SIZE, IMAGE_SIZE, 3)\n",
        "\n",
        "# Create the base model from the pre-trained MobileNet V2\n",
        "base_model = tf.keras.applications.MobileNetV2(input_shape=IMG_SHAPE,\n",
        "                                              include_top=False,\n",
        "                                              weights='imagenet')\n",
        "base_model.trainable = False"
      ]
    },
    {
      "cell_type": "markdown",
      "metadata": {
        "id": "wdMRM8YModbk"
      },
      "source": [
        "### Add a classification head\n",
        "\n",
        "Now we create a new [`Sequential`](https://www.tensorflow.org/api_docs/python/tf/keras/Sequential) model and pass the frozen MobileNet model as the base of the graph, and append new classification layers so we can set the final output dimension to match the number of classes in our dataset (5 types of flowers)."
      ]
    },
    {
      "cell_type": "code",
      "execution_count": 11,
      "metadata": {
        "id": "eApvroIyn1K0"
      },
      "outputs": [],
      "source": [
        "model = tf.keras.Sequential([\n",
        "  base_model,\n",
        "  tf.keras.layers.Conv2D(filters=32, kernel_size=3, activation='relu'),\n",
        "  tf.keras.layers.Dropout(0.2),\n",
        "  tf.keras.layers.GlobalAveragePooling2D(),\n",
        "  tf.keras.layers.Dense(units=5, activation='softmax')\n",
        "])"
      ]
    },
    {
      "cell_type": "markdown",
      "metadata": {
        "id": "g0ylJXE_kRLi"
      },
      "source": [
        "### Configure the model\n",
        "\n",
        "Although this method is called `compile()`, it's basically a configuration step that's required before we can start training."
      ]
    },
    {
      "cell_type": "code",
      "execution_count": 12,
      "metadata": {
        "id": "RpR8HdyMhukJ"
      },
      "outputs": [],
      "source": [
        "model.compile(optimizer='adam',\n",
        "              loss='categorical_crossentropy',\n",
        "              metrics=['accuracy'])"
      ]
    },
    {
      "cell_type": "markdown",
      "metadata": {
        "id": "YI-FWMqYlm1X"
      },
      "source": [
        "You can see a string summary of the final network with the `summary()` method:"
      ]
    },
    {
      "cell_type": "code",
      "execution_count": 13,
      "metadata": {
        "id": "I8ARiyMFsgbH",
        "colab": {
          "base_uri": "https://localhost:8080/"
        },
        "outputId": "f2abebf1-9ac0-4cbe-ec90-61e77179f2d4"
      },
      "outputs": [
        {
          "output_type": "stream",
          "name": "stdout",
          "text": [
            "Model: \"sequential\"\n",
            "_________________________________________________________________\n",
            " Layer (type)                Output Shape              Param #   \n",
            "=================================================================\n",
            " mobilenetv2_1.00_224 (Func  (None, 7, 7, 1280)        2257984   \n",
            " tional)                                                         \n",
            "                                                                 \n",
            " conv2d (Conv2D)             (None, 5, 5, 32)          368672    \n",
            "                                                                 \n",
            " dropout (Dropout)           (None, 5, 5, 32)          0         \n",
            "                                                                 \n",
            " global_average_pooling2d (  (None, 32)                0         \n",
            " GlobalAveragePooling2D)                                         \n",
            "                                                                 \n",
            " dense (Dense)               (None, 5)                 165       \n",
            "                                                                 \n",
            "=================================================================\n",
            "Total params: 2626821 (10.02 MB)\n",
            "Trainable params: 368837 (1.41 MB)\n",
            "Non-trainable params: 2257984 (8.61 MB)\n",
            "_________________________________________________________________\n"
          ]
        }
      ],
      "source": [
        "model.summary()"
      ]
    },
    {
      "cell_type": "markdown",
      "metadata": {
        "id": "OjgKQrUem04S"
      },
      "source": [
        "And because the majority of the model graph is frozen in the base model, weights from only the last convolution and dense layers are trainable:"
      ]
    },
    {
      "cell_type": "code",
      "execution_count": 14,
      "metadata": {
        "id": "krvBumovycVA",
        "colab": {
          "base_uri": "https://localhost:8080/"
        },
        "outputId": "adc23e77-94f1-426a-d8a3-b406032f8bb2"
      },
      "outputs": [
        {
          "output_type": "stream",
          "name": "stdout",
          "text": [
            "Number of trainable weights = 4\n"
          ]
        }
      ],
      "source": [
        "print('Number of trainable weights = {}'.format(len(model.trainable_weights)))"
      ]
    },
    {
      "cell_type": "markdown",
      "metadata": {
        "id": "RxvgOYTDSWTx"
      },
      "source": [
        "## Train the model\n"
      ]
    },
    {
      "cell_type": "markdown",
      "metadata": {
        "id": "kBRNaOCCoA-P"
      },
      "source": [
        "Now we can train the model using data provided by the `train_generator` and `val_generator` that we created at the beginning.\n",
        "\n",
        "This should take less than 10 minutes."
      ]
    },
    {
      "cell_type": "code",
      "execution_count": 15,
      "metadata": {
        "id": "JsaRFlZ9B6WK",
        "colab": {
          "base_uri": "https://localhost:8080/"
        },
        "outputId": "84273e2b-475e-47bb-c5a4-d28c4fb4a94b"
      },
      "outputs": [
        {
          "output_type": "stream",
          "name": "stdout",
          "text": [
            "Epoch 1/10\n",
            "46/46 [==============================] - 27s 340ms/step - loss: 0.6072 - accuracy: 0.7826 - val_loss: 0.4523 - val_accuracy: 0.8413\n",
            "Epoch 2/10\n",
            "46/46 [==============================] - 13s 280ms/step - loss: 0.2430 - accuracy: 0.9122 - val_loss: 0.4274 - val_accuracy: 0.8509\n",
            "Epoch 3/10\n",
            "46/46 [==============================] - 13s 283ms/step - loss: 0.1478 - accuracy: 0.9490 - val_loss: 0.4389 - val_accuracy: 0.8550\n",
            "Epoch 4/10\n",
            "46/46 [==============================] - 13s 280ms/step - loss: 0.0853 - accuracy: 0.9758 - val_loss: 0.4371 - val_accuracy: 0.8728\n",
            "Epoch 5/10\n",
            "46/46 [==============================] - 13s 275ms/step - loss: 0.0552 - accuracy: 0.9871 - val_loss: 0.5233 - val_accuracy: 0.8550\n",
            "Epoch 6/10\n",
            "46/46 [==============================] - 12s 271ms/step - loss: 0.0351 - accuracy: 0.9918 - val_loss: 0.4828 - val_accuracy: 0.8810\n",
            "Epoch 7/10\n",
            "46/46 [==============================] - 14s 296ms/step - loss: 0.0228 - accuracy: 0.9963 - val_loss: 0.5206 - val_accuracy: 0.8755\n",
            "Epoch 8/10\n",
            "46/46 [==============================] - 13s 277ms/step - loss: 0.0164 - accuracy: 0.9976 - val_loss: 0.5431 - val_accuracy: 0.8646\n",
            "Epoch 9/10\n",
            "46/46 [==============================] - 13s 279ms/step - loss: 0.0081 - accuracy: 0.9997 - val_loss: 0.5802 - val_accuracy: 0.8700\n",
            "Epoch 10/10\n",
            "46/46 [==============================] - 13s 280ms/step - loss: 0.0071 - accuracy: 1.0000 - val_loss: 0.6667 - val_accuracy: 0.8591\n"
          ]
        }
      ],
      "source": [
        "history = model.fit(train_generator,\n",
        "                    steps_per_epoch=len(train_generator),\n",
        "                    epochs=10,\n",
        "                    validation_data=val_generator,\n",
        "                    validation_steps=len(val_generator))"
      ]
    },
    {
      "cell_type": "markdown",
      "metadata": {
        "id": "Hd94CKImf8vi"
      },
      "source": [
        "### Review the learning curves\n"
      ]
    },
    {
      "cell_type": "code",
      "execution_count": 16,
      "metadata": {
        "id": "53OTCh3jnbwV",
        "colab": {
          "base_uri": "https://localhost:8080/",
          "height": 718
        },
        "outputId": "82bf9bcf-ab15-46e0-d721-6a5701e6f74b"
      },
      "outputs": [
        {
          "output_type": "display_data",
          "data": {
            "text/plain": [
              "<Figure size 800x800 with 2 Axes>"
            ],
            "image/png": "[encoded data removed]"
          },
          "metadata": {}
        }
      ],
      "source": [
        "acc = history.history['accuracy']\n",
        "val_acc = history.history['val_accuracy']\n",
        "\n",
        "loss = history.history['loss']\n",
        "val_loss = history.history['val_loss']\n",
        "\n",
        "plt.figure(figsize=(8, 8))\n",
        "plt.subplot(2, 1, 1)\n",
        "plt.plot(acc, label='Training Accuracy')\n",
        "plt.plot(val_acc, label='Validation Accuracy')\n",
        "plt.legend(loc='lower right')\n",
        "plt.ylabel('Accuracy')\n",
        "plt.ylim([min(plt.ylim()),1])\n",
        "plt.title('Training and Validation Accuracy')\n",
        "\n",
        "plt.subplot(2, 1, 2)\n",
        "plt.plot(loss, label='Training Loss')\n",
        "plt.plot(val_loss, label='Validation Loss')\n",
        "plt.legend(loc='upper right')\n",
        "plt.ylabel('Cross Entropy')\n",
        "plt.ylim([0,1.0])\n",
        "plt.title('Training and Validation Loss')\n",
        "plt.xlabel('epoch')\n",
        "plt.show()"
      ]
    },
    {
      "cell_type": "markdown",
      "metadata": {
        "id": "CqwV-CRdS6Nv"
      },
      "source": [
        "## Fine tune the base model\n"
      ]
    },
    {
      "cell_type": "markdown",
      "metadata": {
        "id": "dBTEEnxv9X6J"
      },
      "source": [
        "So far, we've only trained the classification layers—the weights of the pre-trained network were *not* changed.\n",
        "\n",
        "One way we can increase the accuracy is to train (or \"fine-tune\") more layers from the pre-trained model. That is, we'll un-freeze some layers from the base model and adjust those weights (which were originally trained with 1,000 ImageNet classes) so they're better tuned for features found in our flowers dataset."
      ]
    },
    {
      "cell_type": "markdown",
      "metadata": {
        "id": "CPXnzUK0QonF"
      },
      "source": [
        "### Un-freeze more layers\n"
      ]
    },
    {
      "cell_type": "markdown",
      "metadata": {
        "id": "rfxv_ifotQak"
      },
      "source": [
        "So instead of freezing the entire base model, we'll freeze individual layers.\n",
        "\n",
        "First, let's see how many layers are in the base model:"
      ]
    },
    {
      "cell_type": "code",
      "execution_count": 17,
      "metadata": {
        "id": "4nzcagVitLQm",
        "colab": {
          "base_uri": "https://localhost:8080/"
        },
        "outputId": "6085b15f-194e-4336-c92c-b507a9bade51"
      },
      "outputs": [
        {
          "output_type": "stream",
          "name": "stdout",
          "text": [
            "Number of layers in the base model:  154\n"
          ]
        }
      ],
      "source": [
        "print(\"Number of layers in the base model: \", len(base_model.layers))"
      ]
    },
    {
      "cell_type": "markdown",
      "metadata": {
        "id": "dGcXdaQqASlC"
      },
      "source": [
        "Let's try freezing just the bottom 100 layers."
      ]
    },
    {
      "cell_type": "code",
      "execution_count": 18,
      "metadata": {
        "id": "-4HgVAacRs5v"
      },
      "outputs": [],
      "source": [
        "base_model.trainable = True\n",
        "fine_tune_at = 100\n",
        "\n",
        "# Freeze all the layers before the `fine_tune_at` layer\n",
        "for layer in base_model.layers[:fine_tune_at]:\n",
        "  layer.trainable =  False"
      ]
    },
    {
      "cell_type": "markdown",
      "metadata": {
        "id": "4Uk1dgsxT0IS"
      },
      "source": [
        "### Reconfigure the model\n",
        "\n",
        "Now configure the model again, but this time with a lower learning rate (the default is 0.001)."
      ]
    },
    {
      "cell_type": "code",
      "execution_count": 19,
      "metadata": {
        "id": "NtUnaz0WUDva"
      },
      "outputs": [],
      "source": [
        "model.compile(optimizer=tf.keras.optimizers.Adam(1e-5),\n",
        "              loss='categorical_crossentropy',\n",
        "              metrics=['accuracy'])"
      ]
    },
    {
      "cell_type": "code",
      "execution_count": 20,
      "metadata": {
        "id": "WwBWy7J2kZvA",
        "colab": {
          "base_uri": "https://localhost:8080/"
        },
        "outputId": "55312cf0-1e97-4af1-e5f5-931fe7838803"
      },
      "outputs": [
        {
          "output_type": "stream",
          "name": "stdout",
          "text": [
            "Model: \"sequential\"\n",
            "_________________________________________________________________\n",
            " Layer (type)                Output Shape              Param #   \n",
            "=================================================================\n",
            " mobilenetv2_1.00_224 (Func  (None, 7, 7, 1280)        2257984   \n",
            " tional)                                                         \n",
            "                                                                 \n",
            " conv2d (Conv2D)             (None, 5, 5, 32)          368672    \n",
            "                                                                 \n",
            " dropout (Dropout)           (None, 5, 5, 32)          0         \n",
            "                                                                 \n",
            " global_average_pooling2d (  (None, 32)                0         \n",
            " GlobalAveragePooling2D)                                         \n",
            "                                                                 \n",
            " dense (Dense)               (None, 5)                 165       \n",
            "                                                                 \n",
            "=================================================================\n",
            "Total params: 2626821 (10.02 MB)\n",
            "Trainable params: 2230277 (8.51 MB)\n",
            "Non-trainable params: 396544 (1.51 MB)\n",
            "_________________________________________________________________\n"
          ]
        }
      ],
      "source": [
        "model.summary()"
      ]
    },
    {
      "cell_type": "code",
      "execution_count": 21,
      "metadata": {
        "id": "bNXelbMQtonr",
        "colab": {
          "base_uri": "https://localhost:8080/"
        },
        "outputId": "25033c8a-b68d-43b1-c1ec-95ec1f8d6790"
      },
      "outputs": [
        {
          "output_type": "stream",
          "name": "stdout",
          "text": [
            "Number of trainable weights = 58\n"
          ]
        }
      ],
      "source": [
        "print('Number of trainable weights = {}'.format(len(model.trainable_weights)))"
      ]
    },
    {
      "cell_type": "markdown",
      "metadata": {
        "id": "4G5O4jd6TuAG"
      },
      "source": [
        "### Continue training"
      ]
    },
    {
      "cell_type": "markdown",
      "metadata": {
        "id": "bppmJTmDpXtK"
      },
      "source": [
        "Now let's fine-tune all trainable layers. This starts with the weights we already trained in the classification layers, so we don't need as many epochs."
      ]
    },
    {
      "cell_type": "code",
      "execution_count": 22,
      "metadata": {
        "id": "PiXbLb1O8IDy",
        "colab": {
          "base_uri": "https://localhost:8080/"
        },
        "outputId": "da9f67e2-b09e-4230-e116-be3ea35a5a89"
      },
      "outputs": [
        {
          "output_type": "stream",
          "name": "stdout",
          "text": [
            "Epoch 1/5\n",
            "46/46 [==============================] - 24s 301ms/step - loss: 0.4150 - accuracy: 0.8738 - val_loss: 0.6808 - val_accuracy: 0.8687\n",
            "Epoch 2/5\n",
            "46/46 [==============================] - 13s 282ms/step - loss: 0.2198 - accuracy: 0.9248 - val_loss: 0.6775 - val_accuracy: 0.8687\n",
            "Epoch 3/5\n",
            "46/46 [==============================] - 13s 282ms/step - loss: 0.1329 - accuracy: 0.9493 - val_loss: 0.6833 - val_accuracy: 0.8700\n",
            "Epoch 4/5\n",
            "46/46 [==============================] - 13s 283ms/step - loss: 0.0909 - accuracy: 0.9680 - val_loss: 0.6886 - val_accuracy: 0.8687\n",
            "Epoch 5/5\n",
            "46/46 [==============================] - 13s 283ms/step - loss: 0.0749 - accuracy: 0.9752 - val_loss: 0.6838 - val_accuracy: 0.8632\n"
          ]
        }
      ],
      "source": [
        "history_fine = model.fit(train_generator,\n",
        "                         steps_per_epoch=len(train_generator),\n",
        "                         epochs=5,\n",
        "                         validation_data=val_generator,\n",
        "                         validation_steps=len(val_generator))"
      ]
    },
    {
      "cell_type": "markdown",
      "metadata": {
        "id": "xqIjZvhBBJNn"
      },
      "source": [
        "### Review the new learning curves"
      ]
    },
    {
      "cell_type": "code",
      "execution_count": 23,
      "metadata": {
        "id": "chW103JUItdk",
        "colab": {
          "base_uri": "https://localhost:8080/",
          "height": 718
        },
        "outputId": "7f0c6fbf-a680-49db-def5-261b79d59c91"
      },
      "outputs": [
        {
          "output_type": "display_data",
          "data": {
            "text/plain": [
              "<Figure size 800x800 with 2 Axes>"
            ],
            "image/png": "[encoded data removed]"
          },
          "metadata": {}
        }
      ],
      "source": [
        "acc = history_fine.history['accuracy']\n",
        "val_acc = history_fine.history['val_accuracy']\n",
        "\n",
        "loss = history_fine.history['loss']\n",
        "val_loss = history_fine.history['val_loss']\n",
        "\n",
        "plt.figure(figsize=(8, 8))\n",
        "plt.subplot(2, 1, 1)\n",
        "plt.plot(acc, label='Training Accuracy')\n",
        "plt.plot(val_acc, label='Validation Accuracy')\n",
        "plt.legend(loc='lower right')\n",
        "plt.ylabel('Accuracy')\n",
        "plt.ylim([min(plt.ylim()),1])\n",
        "plt.title('Training and Validation Accuracy')\n",
        "\n",
        "plt.subplot(2, 1, 2)\n",
        "plt.plot(loss, label='Training Loss')\n",
        "plt.plot(val_loss, label='Validation Loss')\n",
        "plt.legend(loc='upper right')\n",
        "plt.ylabel('Cross Entropy')\n",
        "plt.ylim([0,1.0])\n",
        "plt.title('Training and Validation Loss')\n",
        "plt.xlabel('epoch')\n",
        "plt.show()"
      ]
    },
    {
      "cell_type": "markdown",
      "metadata": {
        "id": "TjdOw_xkqzI4"
      },
      "source": [
        "This is better, but it's not ideal.\n",
        "\n",
        "The validation loss is still higher than the training loss, so there could be some overfitting during training. The overfitting might also be because the new training set is relatively small with less intra-class variance, compared to the original ImageNet dataset used to train MobileNet V2.\n",
        "\n",
        "So this model isn't trained to an accuracy that's production ready, but it works well enough as a demonstration.\n",
        "\n",
        "Let's move on and convert the model to TensorFlow Lite."
      ]
    },
    {
      "cell_type": "markdown",
      "metadata": {
        "id": "kRDabW_u1wnv"
      },
      "source": [
        "## Convert to TFLite"
      ]
    },
    {
      "cell_type": "markdown",
      "metadata": {
        "id": "hNvMl6CM6lG4"
      },
      "source": [
        "Ordinarily, creating a TensorFlow Lite model is just a few lines of code with [`TFLiteConverter`](https://www.tensorflow.org/api_docs/python/tf/lite/TFLiteConverter). For example, this creates a basic (un-quantized) TensorFlow Lite model:"
      ]
    },
    {
      "cell_type": "code",
      "execution_count": 24,
      "metadata": {
        "id": "srOYhMYfx9XH",
        "colab": {
          "base_uri": "https://localhost:8080/"
        },
        "outputId": "24b262a2-a13f-463c-e764-729cd699959d"
      },
      "outputs": [
        {
          "output_type": "stream",
          "name": "stderr",
          "text": [
            "WARNING:absl:`mobilenetv2_1.00_224_input` is not a valid tf.function parameter name. Sanitizing to `mobilenetv2_1_00_224_input`.\n",
            "WARNING:absl:`mobilenetv2_1.00_224_input` is not a valid tf.function parameter name. Sanitizing to `mobilenetv2_1_00_224_input`.\n",
            "WARNING:absl:`mobilenetv2_1.00_224_input` is not a valid tf.function parameter name. Sanitizing to `mobilenetv2_1_00_224_input`.\n"
          ]
        }
      ],
      "source": [
        "converter = tf.lite.TFLiteConverter.from_keras_model(model)\n",
        "tflite_model = converter.convert()\n",
        "\n",
        "with open('mobilenet_v2_1.0_224.tflite', 'wb') as f:\n",
        "  f.write(tflite_model)"
      ]
    },
    {
      "cell_type": "markdown",
      "metadata": {
        "id": "P0_StAtZwJ5p"
      },
      "source": [
        "However, this `.tflite` file still uses floating-point values for the parameter data, and we need to fully quantize the model to int8 format.\n",
        "\n",
        "To fully quantize the model, we need to perform [post-training quantization](https://www.tensorflow.org/lite/performance/post_training_quantization) with a representative dataset, which requires a few more arguments for the `TFLiteConverter`, and a function that builds a dataset that's representative of the training dataset.\n",
        "\n",
        "So let's convert the model again with post-training quantization:"
      ]
    },
    {
      "cell_type": "code",
      "execution_count": 25,
      "metadata": {
        "id": "w9ydAmHGHUZl",
        "colab": {
          "base_uri": "https://localhost:8080/"
        },
        "outputId": "d5aa5d8b-1efc-4446-eb2c-394a2eccefc6"
      },
      "outputs": [
        {
          "output_type": "stream",
          "name": "stderr",
          "text": [
            "WARNING:absl:`mobilenetv2_1.00_224_input` is not a valid tf.function parameter name. Sanitizing to `mobilenetv2_1_00_224_input`.\n",
            "WARNING:absl:`mobilenetv2_1.00_224_input` is not a valid tf.function parameter name. Sanitizing to `mobilenetv2_1_00_224_input`.\n",
            "/usr/local/lib/python3.10/dist-packages/tensorflow/lite/python/convert.py:953: UserWarning: Statistics for quantized inputs were expected, but not specified; continuing anyway.\n",
            "  warnings.warn(\n"
          ]
        }
      ],
      "source": [
        "# A generator that provides a representative dataset\n",
        "def representative_data_gen():\n",
        "  dataset_list = tf.data.Dataset.list_files(flowers_dir + '/*/*')\n",
        "  for i in range(100):\n",
        "    image = next(iter(dataset_list))\n",
        "    image = tf.io.read_file(image)\n",
        "    image = tf.io.decode_jpeg(image, channels=3)\n",
        "    image = tf.image.resize(image, [IMAGE_SIZE, IMAGE_SIZE])\n",
        "    image = tf.cast(image / 255., tf.float32)\n",
        "    image = tf.expand_dims(image, 0)\n",
        "    yield [image]\n",
        "\n",
        "converter = tf.lite.TFLiteConverter.from_keras_model(model)\n",
        "# This enables quantization\n",
        "converter.optimizations = [tf.lite.Optimize.DEFAULT]\n",
        "# This sets the representative dataset for quantization\n",
        "converter.representative_dataset = representative_data_gen\n",
        "# This ensures that if any ops can't be quantized, the converter throws an error\n",
        "converter.target_spec.supported_ops = [tf.lite.OpsSet.TFLITE_BUILTINS_INT8]\n",
        "# For full integer quantization, though supported types defaults to int8 only, we explicitly declare it for clarity.\n",
        "converter.target_spec.supported_types = [tf.int8]\n",
        "# These set the input and output tensors to uint8 (added in r2.3)\n",
        "converter.inference_input_type = tf.uint8\n",
        "converter.inference_output_type = tf.uint8\n",
        "tflite_model = converter.convert()\n",
        "\n",
        "with open('mobilenet_v2_1.0_224_quant.tflite', 'wb') as f:\n",
        "  f.write(tflite_model)"
      ]
    },
    {
      "cell_type": "markdown",
      "metadata": {
        "id": "RMLYBDe_e849"
      },
      "source": [
        "### Compare the accuracy\n"
      ]
    },
    {
      "cell_type": "markdown",
      "metadata": {
        "id": "SFgbRx_Twd-P"
      },
      "source": [
        "So now we have a fully quantized TensorFlow Lite model. To be sure the conversion went well, let's evaluate both the raw model and the TensorFlow Lite model.\n",
        "\n",
        "First check the accuracy of the raw model:"
      ]
    },
    {
      "cell_type": "code",
      "execution_count": 26,
      "metadata": {
        "id": "RkQ2IlAWfC5O",
        "colab": {
          "base_uri": "https://localhost:8080/"
        },
        "outputId": "18083574-b63b-406e-93ab-dd30d6597ede"
      },
      "outputs": [
        {
          "output_type": "stream",
          "name": "stdout",
          "text": [
            "Raw model accuracy: 87.500%\n"
          ]
        }
      ],
      "source": [
        "batch_images, batch_labels = next(val_generator)\n",
        "\n",
        "logits = model(batch_images)\n",
        "prediction = np.argmax(logits, axis=1)\n",
        "truth = np.argmax(batch_labels, axis=1)\n",
        "\n",
        "keras_accuracy = tf.keras.metrics.Accuracy()\n",
        "keras_accuracy(prediction, truth)\n",
        "\n",
        "print(\"Raw model accuracy: {:.3%}\".format(keras_accuracy.result()))"
      ]
    },
    {
      "cell_type": "markdown",
      "metadata": {
        "id": "Hjx3dgZNwmKN"
      },
      "source": [
        "Now let's check the accuracy of the `.tflite` file, using the same dataset.\n",
        "\n",
        "However, there's no convenient API to evaluate the accuracy of a TensorFlow Lite model, so this code runs several inferences and compares the predictions against ground truth:"
      ]
    },
    {
      "cell_type": "code",
      "execution_count": 27,
      "metadata": {
        "id": "iBs0O7q_wlCN",
        "colab": {
          "base_uri": "https://localhost:8080/"
        },
        "outputId": "ff6511fb-ff7d-4acf-f0cd-902c9afea7eb"
      },
      "outputs": [
        {
          "output_type": "stream",
          "name": "stdout",
          "text": [
            "Quant TF Lite accuracy: 87.500%\n"
          ]
        }
      ],
      "source": [
        "def set_input_tensor(interpreter, input):\n",
        "  input_details = interpreter.get_input_details()[0]\n",
        "  tensor_index = input_details['index']\n",
        "  input_tensor = interpreter.tensor(tensor_index)()[0]\n",
        "  # Inputs for the TFLite model must be uint8, so we quantize our input data.\n",
        "  # NOTE: This step is necessary only because we're receiving input data from\n",
        "  # ImageDataGenerator, which rescaled all image data to float [0,1]. When using\n",
        "  # bitmap inputs, they're already uint8 [0,255] so this can be replaced with:\n",
        "  #   input_tensor[:, :] = input\n",
        "  scale, zero_point = input_details['quantization']\n",
        "  input_tensor[:, :] = np.uint8(input / scale + zero_point)\n",
        "\n",
        "def classify_image(interpreter, input):\n",
        "  set_input_tensor(interpreter, input)\n",
        "  interpreter.invoke()\n",
        "  output_details = interpreter.get_output_details()[0]\n",
        "  output = interpreter.get_tensor(output_details['index'])\n",
        "  # Outputs from the TFLite model are uint8, so we dequantize the results:\n",
        "  scale, zero_point = output_details['quantization']\n",
        "  output = scale * (output - zero_point)\n",
        "  top_1 = np.argmax(output)\n",
        "  return top_1\n",
        "\n",
        "interpreter = tf.lite.Interpreter('mobilenet_v2_1.0_224_quant.tflite')\n",
        "interpreter.allocate_tensors()\n",
        "\n",
        "# Collect all inference predictions in a list\n",
        "batch_prediction = []\n",
        "batch_truth = np.argmax(batch_labels, axis=1)\n",
        "\n",
        "for i in range(len(batch_images)):\n",
        "  prediction = classify_image(interpreter, batch_images[i])\n",
        "  batch_prediction.append(prediction)\n",
        "\n",
        "# Compare all predictions to the ground truth\n",
        "tflite_accuracy = tf.keras.metrics.Accuracy()\n",
        "tflite_accuracy(batch_prediction, batch_truth)\n",
        "print(\"Quant TF Lite accuracy: {:.3%}\".format(tflite_accuracy.result()))\n"
      ]
    },
    {
      "cell_type": "markdown",
      "metadata": {
        "id": "WfM4kAPiPg9q"
      },
      "source": [
        "You might see some, but hopefully not very much accuracy drop between the raw model and the TensorFlow Lite model. But again, these results are not suitable for production deployment."
      ]
    },
    {
      "cell_type": "markdown",
      "metadata": {
        "id": "ZmiHICezwXZq"
      },
      "source": [
        "## Compile for the Edge TPU\n"
      ]
    },
    {
      "cell_type": "markdown",
      "metadata": {
        "id": "DhOzAdzF3Dyk"
      },
      "source": [
        "Finally, we're ready to compile the model for the Edge TPU.\n",
        "\n",
        "First download the [Edge TPU Compiler](https://coral.ai/docs/edgetpu/compiler/):"
      ]
    },
    {
      "cell_type": "code",
      "execution_count": 28,
      "metadata": {
        "id": "p6ZpWgrk21Ad",
        "colab": {
          "base_uri": "https://localhost:8080/"
        },
        "outputId": "4ac7f630-aa08-4e60-bdc6-09236839f48e"
      },
      "outputs": [
        {
          "output_type": "stream",
          "name": "stdout",
          "text": [
            "  % Total    % Received % Xferd  Average Speed   Time    Time     Time  Current\n",
            "                                 Dload  Upload   Total   Spent    Left  Speed\n",
            "\r  0     0    0     0    0     0      0      0 --:--:-- --:--:-- --:--:--     0\r100  2659  100  2659    0     0  24396      0 --:--:-- --:--:-- --:--:-- 24620\n",
            "Warning: apt-key is deprecated. Manage keyring files in trusted.gpg.d instead (see apt-key(8)).\n",
            "OK\n",
            "deb https://packages.cloud.google.com/apt coral-edgetpu-stable main\n",
            "Get:1 https://cloud.r-project.org/bin/linux/ubuntu jammy-cran40/ InRelease [3,626 B]\n",
            "Get:2 https://developer.download.nvidia.com/compute/cuda/repos/ubuntu2204/x86_64  InRelease [1,581 B]\n",
            "Hit:3 http://archive.ubuntu.com/ubuntu jammy InRelease\n",
            "Get:4 https://developer.download.nvidia.com/compute/cuda/repos/ubuntu2204/x86_64  Packages [637 kB]\n",
            "Get:5 http://archive.ubuntu.com/ubuntu jammy-updates InRelease [119 kB]\n",
            "Get:6 http://security.ubuntu.com/ubuntu jammy-security InRelease [110 kB]\n",
            "Get:7 https://packages.cloud.google.com/apt coral-edgetpu-stable InRelease [6,332 B]\n",
            "Hit:8 http://archive.ubuntu.com/ubuntu jammy-backports InRelease\n",
            "Hit:9 https://ppa.launchpadcontent.net/c2d4u.team/c2d4u4.0+/ubuntu jammy InRelease\n",
            "Get:10 http://archive.ubuntu.com/ubuntu jammy-updates/main amd64 Packages [1,599 kB]\n",
            "Hit:11 https://ppa.launchpadcontent.net/deadsnakes/ppa/ubuntu jammy InRelease\n",
            "Ign:12 https://packages.cloud.google.com/apt coral-edgetpu-stable/main amd64 Packages\n",
            "Hit:13 https://ppa.launchpadcontent.net/graphics-drivers/ppa/ubuntu jammy InRelease\n",
            "Hit:14 https://ppa.launchpadcontent.net/ubuntugis/ppa/ubuntu jammy InRelease\n",
            "Get:15 http://archive.ubuntu.com/ubuntu jammy-updates/universe amd64 Packages [1,305 kB]\n",
            "Get:12 https://packages.cloud.google.com/apt coral-edgetpu-stable/main amd64 Packages [2,317 B]\n",
            "Get:16 http://security.ubuntu.com/ubuntu jammy-security/main amd64 Packages [1,326 kB]\n",
            "Get:17 http://security.ubuntu.com/ubuntu jammy-security/universe amd64 Packages [1,046 kB]\n",
            "Fetched 6,156 kB in 3s (2,368 kB/s)\n",
            "Reading package lists... Done\n",
            "W: https://packages.cloud.google.com/apt/dists/coral-edgetpu-stable/InRelease: Key is stored in legacy trusted.gpg keyring (/etc/apt/trusted.gpg), see the DEPRECATION section in apt-key(8) for details.\n",
            "Reading package lists... Done\n",
            "Building dependency tree... Done\n",
            "Reading state information... Done\n",
            "The following NEW packages will be installed:\n",
            "  edgetpu-compiler\n",
            "0 upgraded, 1 newly installed, 0 to remove and 27 not upgraded.\n",
            "Need to get 7,913 kB of archives.\n",
            "After this operation, 31.2 MB of additional disk space will be used.\n",
            "Get:1 https://packages.cloud.google.com/apt coral-edgetpu-stable/main amd64 edgetpu-compiler amd64 16.0 [7,913 kB]\n",
            "Fetched 7,913 kB in 0s (18.0 MB/s)\n",
            "debconf: unable to initialize frontend: Dialog\n",
            "debconf: (No usable dialog-like program is installed, so the dialog based frontend cannot be used. at /usr/share/perl5/Debconf/FrontEnd/Dialog.pm line 78, <> line 1.)\n",
            "debconf: falling back to frontend: Readline\n",
            "debconf: unable to initialize frontend: Readline\n",
            "debconf: (This frontend requires a controlling tty.)\n",
            "debconf: falling back to frontend: Teletype\n",
            "dpkg-preconfigure: unable to re-open stdin: \n",
            "Selecting previously unselected package edgetpu-compiler.\n",
            "(Reading database ... 121658 files and directories currently installed.)\n",
            "Preparing to unpack .../edgetpu-compiler_16.0_amd64.deb ...\n",
            "Unpacking edgetpu-compiler (16.0) ...\n",
            "Setting up edgetpu-compiler (16.0) ...\n",
            "Processing triggers for libc-bin (2.35-0ubuntu3.4) ...\n",
            "/sbin/ldconfig.real: /usr/local/lib/libtbbbind_2_5.so.3 is not a symbolic link\n",
            "\n",
            "/sbin/ldconfig.real: /usr/local/lib/libtbb.so.12 is not a symbolic link\n",
            "\n",
            "/sbin/ldconfig.real: /usr/local/lib/libtbbbind_2_0.so.3 is not a symbolic link\n",
            "\n",
            "/sbin/ldconfig.real: /usr/local/lib/libtbbmalloc_proxy.so.2 is not a symbolic link\n",
            "\n",
            "/sbin/ldconfig.real: /usr/local/lib/libtbbmalloc.so.2 is not a symbolic link\n",
            "\n",
            "/sbin/ldconfig.real: /usr/local/lib/libtbbbind.so.3 is not a symbolic link\n",
            "\n"
          ]
        }
      ],
      "source": [
        "! curl https://packages.cloud.google.com/apt/doc/apt-key.gpg | sudo apt-key add -\n",
        "\n",
        "! echo \"deb https://packages.cloud.google.com/apt coral-edgetpu-stable main\" | sudo tee /etc/apt/sources.list.d/coral-edgetpu.list\n",
        "\n",
        "! sudo apt-get update\n",
        "\n",
        "! sudo apt-get install edgetpu-compiler"
      ]
    },
    {
      "cell_type": "markdown",
      "metadata": {
        "id": "mtPcYiER3Ymp"
      },
      "source": [
        "Then compile the model:"
      ]
    },
    {
      "cell_type": "code",
      "execution_count": 29,
      "metadata": {
        "id": "joxrIB0I3cdi",
        "colab": {
          "base_uri": "https://localhost:8080/"
        },
        "outputId": "c5048612-8e0e-4f75-c125-c833dea42e67"
      },
      "outputs": [
        {
          "output_type": "stream",
          "name": "stdout",
          "text": [
            "Edge TPU Compiler version 16.0.384591198\n",
            "Started a compilation timeout timer of 180 seconds.\n",
            "\n",
            "Model compiled successfully in 1157 ms.\n",
            "\n",
            "Input model: mobilenet_v2_1.0_224_quant.tflite\n",
            "Input size: 2.94MiB\n",
            "Output model: mobilenet_v2_1.0_224_quant_edgetpu.tflite\n",
            "Output size: 3.12MiB\n",
            "On-chip memory used for caching model parameters: 3.34MiB\n",
            "On-chip memory remaining for caching model parameters: 4.36MiB\n",
            "Off-chip memory used for streaming uncached model parameters: 0.00B\n",
            "Number of Edge TPU subgraphs: 1\n",
            "Total number of operations: 72\n",
            "Operation log: mobilenet_v2_1.0_224_quant_edgetpu.log\n",
            "See the operation log file for individual operation details.\n",
            "Compilation child process completed within timeout period.\n",
            "Compilation succeeded! \n"
          ]
        }
      ],
      "source": [
        "! edgetpu_compiler mobilenet_v2_1.0_224_quant.tflite"
      ]
    },
    {
      "cell_type": "markdown",
      "metadata": {
        "id": "7R8JMQc1MMm5"
      },
      "source": [
        "That's it.\n",
        "\n",
        "The compiled model uses the same filename but with \"_edgetpu\" appended at the end."
      ]
    },
    {
      "cell_type": "markdown",
      "metadata": {
        "id": "Oi9-Voc8A7VK"
      },
      "source": [
        "## Download the model"
      ]
    },
    {
      "cell_type": "markdown",
      "metadata": {
        "id": "XiugMm-jBbWl"
      },
      "source": [
        "You can download the converted model and labels file from Colab like this:"
      ]
    },
    {
      "cell_type": "code",
      "execution_count": 30,
      "metadata": {
        "id": "x47uW_lI1DoV",
        "colab": {
          "base_uri": "https://localhost:8080/",
          "height": 17
        },
        "outputId": "8018d221-cf1b-49ac-8c76-ced96a6b8a3a"
      },
      "outputs": [
        {
          "output_type": "display_data",
          "data": {
            "text/plain": [
              "<IPython.core.display.Javascript object>"
            ],
            "application/javascript": [
              "\n",
              "    async function download(id, filename, size) {\n",
              "      if (!google.colab.kernel.accessAllowed) {\n",
              "        return;\n",
              "      }\n",
              "      const div = document.createElement('div');\n",
              "      const label = document.createElement('label');\n",
              "      label.textContent = `Downloading \"${filename}\": `;\n",
              "      div.appendChild(label);\n",
              "      const progress = document.createElement('progress');\n",
              "      progress.max = size;\n",
              "      div.appendChild(progress);\n",
              "      document.body.appendChild(div);\n",
              "\n",
              "      const buffers = [];\n",
              "      let downloaded = 0;\n",
              "\n",
              "      const channel = await google.colab.kernel.comms.open(id);\n",
              "      // Send a message to notify the kernel that we're ready.\n",
              "      channel.send({})\n",
              "\n",
              "      for await (const message of channel.messages) {\n",
              "        // Send a message to notify the kernel that we're ready.\n",
              "        channel.send({})\n",
              "        if (message.buffers) {\n",
              "          for (const buffer of message.buffers) {\n",
              "            buffers.push(buffer);\n",
              "            downloaded += buffer.byteLength;\n",
              "            progress.value = downloaded;\n",
              "          }\n",
              "        }\n",
              "      }\n",
              "      const blob = new Blob(buffers, {type: 'application/binary'});\n",
              "      const a = document.createElement('a');\n",
              "      a.href = window.URL.createObjectURL(blob);\n",
              "      a.download = filename;\n",
              "      div.appendChild(a);\n",
              "      a.click();\n",
              "      div.remove();\n",
              "    }\n",
              "  "
            ]
          },
          "metadata": {}
        },
        {
          "output_type": "display_data",
          "data": {
            "text/plain": [
              "<IPython.core.display.Javascript object>"
            ],
            "application/javascript": [
              "download(\"download_03f17b9e-81b0-4b94-8597-4d7a320f24f6\", \"mobilenet_v2_1.0_224_quant_edgetpu.tflite\", 3269280)"
            ]
          },
          "metadata": {}
        },
        {
          "output_type": "display_data",
          "data": {
            "text/plain": [
              "<IPython.core.display.Javascript object>"
            ],
            "application/javascript": [
              "\n",
              "    async function download(id, filename, size) {\n",
              "      if (!google.colab.kernel.accessAllowed) {\n",
              "        return;\n",
              "      }\n",
              "      const div = document.createElement('div');\n",
              "      const label = document.createElement('label');\n",
              "      label.textContent = `Downloading \"${filename}\": `;\n",
              "      div.appendChild(label);\n",
              "      const progress = document.createElement('progress');\n",
              "      progress.max = size;\n",
              "      div.appendChild(progress);\n",
              "      document.body.appendChild(div);\n",
              "\n",
              "      const buffers = [];\n",
              "      let downloaded = 0;\n",
              "\n",
              "      const channel = await google.colab.kernel.comms.open(id);\n",
              "      // Send a message to notify the kernel that we're ready.\n",
              "      channel.send({})\n",
              "\n",
              "      for await (const message of channel.messages) {\n",
              "        // Send a message to notify the kernel that we're ready.\n",
              "        channel.send({})\n",
              "        if (message.buffers) {\n",
              "          for (const buffer of message.buffers) {\n",
              "            buffers.push(buffer);\n",
              "            downloaded += buffer.byteLength;\n",
              "            progress.value = downloaded;\n",
              "          }\n",
              "        }\n",
              "      }\n",
              "      const blob = new Blob(buffers, {type: 'application/binary'});\n",
              "      const a = document.createElement('a');\n",
              "      a.href = window.URL.createObjectURL(blob);\n",
              "      a.download = filename;\n",
              "      div.appendChild(a);\n",
              "      a.click();\n",
              "      div.remove();\n",
              "    }\n",
              "  "
            ]
          },
          "metadata": {}
        },
        {
          "output_type": "display_data",
          "data": {
            "text/plain": [
              "<IPython.core.display.Javascript object>"
            ],
            "application/javascript": [
              "download(\"download_5e1192f9-9ba7-475e-bc1f-f6fc6145c495\", \"flower_labels.txt\", 39)"
            ]
          },
          "metadata": {}
        }
      ],
      "source": [
        "from google.colab import files\n",
        "\n",
        "files.download('mobilenet_v2_1.0_224_quant_edgetpu.tflite')\n",
        "files.download('flower_labels.txt')"
      ]
    },
    {
      "cell_type": "markdown",
      "metadata": {
        "id": "_qOCP3mXXvsm"
      },
      "source": [
        "If you get a \"Failed to fetch\" error here, it's probably because the files weren't done saving. So just wait a moment and try again.\n",
        "\n",
        "Also look out for a browser popup that might need approval to download the files."
      ]
    },
    {
      "cell_type": "markdown",
      "metadata": {
        "id": "_TZTwG7nhm0C"
      },
      "source": [
        "## Run the model on the Edge TPU\n",
        "\n",
        "\n"
      ]
    },
    {
      "cell_type": "markdown",
      "metadata": {
        "id": "RwywT4ZpQjLf"
      },
      "source": [
        "You can now run the model on your Coral device with acceleration on the Edge TPU.\n",
        "\n",
        "To get started, try using your `.tflite` model with [this code for image classification with the TensorFlow Lite API](https://github.com/google-coral/tflite/tree/master/python/examples/classification).\n",
        "\n",
        "Just follow the instructions on that page to set up your device, copy the `mobilenet_v2_1.0_224_quant_edgetpu.tflite` and `flower_labels.txt` files to your Coral Dev Board or device with a Coral Accelerator, and pass it a flower photo like this:\n",
        "\n",
        "```\n",
        "python3 classify_image.py \\\n",
        "  --model mobilenet_v2_1.0_224_quant_edgetpu.tflite \\\n",
        "  --labels flower_labels.txt \\\n",
        "  --input flower.jpg\n",
        "```\n",
        "\n",
        "Check out more examples for running inference at [coral.ai/examples](https://coral.ai/examples/#code-examples/)."
      ]
    },
    {
      "cell_type": "code",
      "source": [
        "!git clone https://github.com/google-coral/pycoral.git"
      ],
      "metadata": {
        "colab": {
          "base_uri": "https://localhost:8080/"
        },
        "id": "wRDLlRnW7XqN",
        "outputId": "c9624aa8-b519-4c66-921d-0f2c9b38ed6a"
      },
      "execution_count": 31,
      "outputs": [
        {
          "output_type": "stream",
          "name": "stdout",
          "text": [
            "Cloning into 'pycoral'...\n",
            "remote: Enumerating objects: 315, done.\u001b[K\n",
            "remote: Counting objects: 100% (30/30), done.\u001b[K\n",
            "remote: Compressing objects: 100% (17/17), done.\u001b[K\n",
            "remote: Total 315 (delta 18), reused 13 (delta 13), pack-reused 285\u001b[K\n",
            "Receiving objects: 100% (315/315), 6.32 MiB | 2.74 MiB/s, done.\n",
            "Resolving deltas: 100% (101/101), done.\n"
          ]
        }
      ]
    },
    {
      "cell_type": "code",
      "source": [
        "%cd pycoral/examples"
      ],
      "metadata": {
        "colab": {
          "base_uri": "https://localhost:8080/"
        },
        "id": "x-1s4INH7aQO",
        "outputId": "37e76290-bd29-446e-90e1-4f0c1ee7534c"
      },
      "execution_count": 34,
      "outputs": [
        {
          "output_type": "stream",
          "name": "stdout",
          "text": [
            "/content/pycoral/examples\n"
          ]
        }
      ]
    },
    {
      "cell_type": "code",
      "source": [
        "!pip3 install pycoral"
      ],
      "metadata": {
        "id": "tG-v4MKe7BE8"
      },
      "execution_count": null,
      "outputs": []
    },
    {
      "cell_type": "code",
      "source": [
        "%cd .."
      ],
      "metadata": {
        "colab": {
          "base_uri": "https://localhost:8080/"
        },
        "id": "Mr4Xshh-7rLi",
        "outputId": "6ebdd4e9-8042-410e-c5a7-492c0353f7ac"
      },
      "execution_count": 36,
      "outputs": [
        {
          "output_type": "stream",
          "name": "stdout",
          "text": [
            "/content/pycoral\n"
          ]
        }
      ]
    },
    {
      "cell_type": "code",
      "source": [
        "!cp examples/classify_image.py /content/pycoral"
      ],
      "metadata": {
        "id": "PNnDX0217zkO"
      },
      "execution_count": 38,
      "outputs": []
    },
    {
      "cell_type": "code",
      "source": [
        "%cd pycoral"
      ],
      "metadata": {
        "colab": {
          "base_uri": "https://localhost:8080/"
        },
        "id": "9YZaySx876-9",
        "outputId": "8be487cf-ed7a-4052-d83d-56a56ee23c2d"
      },
      "execution_count": 42,
      "outputs": [
        {
          "output_type": "stream",
          "name": "stdout",
          "text": [
            "/content/pycoral\n"
          ]
        }
      ]
    },
    {
      "cell_type": "code",
      "source": [
        "!python3 classify_image.py \\\n",
        "  --model /content/mobilenet_v2_1.0_224_quant_edgetpu.tflite \\\n",
        "  --labels flower_labels.txt \\\n",
        "  --input flower.jpg"
      ],
      "metadata": {
        "id": "b2jBsoMS69sp",
        "colab": {
          "base_uri": "https://localhost:8080/"
        },
        "outputId": "4db008f1-7933-4d6a-954d-d0961eefaf4b"
      },
      "execution_count": 43,
      "outputs": [
        {
          "output_type": "stream",
          "name": "stdout",
          "text": [
            "Traceback (most recent call last):\n",
            "  File \"/content/pycoral/classify_image.py\", line 40, in <module>\n",
            "    from pycoral.utils.edgetpu import make_interpreter\n",
            "  File \"/content/pycoral/pycoral/utils/edgetpu.py\", line 24, in <module>\n",
            "    from pycoral.pybind._pywrap_coral import GetRuntimeVersion as get_runtime_version\n",
            "ModuleNotFoundError: No module named 'pycoral.pybind'\n"
          ]
        }
      ]
    },
    {
      "cell_type": "code",
      "source": [
        "%cd .."
      ],
      "metadata": {
        "id": "TbnW0QYM6-vj",
        "colab": {
          "base_uri": "https://localhost:8080/"
        },
        "outputId": "9b471717-9db9-4f20-a152-58fdad285e0a"
      },
      "execution_count": 45,
      "outputs": [
        {
          "output_type": "stream",
          "name": "stdout",
          "text": [
            "/content\n"
          ]
        }
      ]
    },
    {
      "cell_type": "code",
      "source": [
        "!git clone --recurse-submodules https://github.com/google-coral/pycoral"
      ],
      "metadata": {
        "colab": {
          "base_uri": "https://localhost:8080/"
        },
        "id": "-Az4NE3w-SSA",
        "outputId": "217972c4-09b4-4c49-b08f-0d305c1d6eff"
      },
      "execution_count": 47,
      "outputs": [
        {
          "output_type": "stream",
          "name": "stdout",
          "text": [
            "Cloning into 'pycoral'...\n",
            "remote: Enumerating objects: 315, done.\u001b[K\n",
            "remote: Counting objects: 100% (30/30), done.\u001b[K\n",
            "remote: Compressing objects: 100% (17/17), done.\u001b[K\n",
            "remote: Total 315 (delta 18), reused 13 (delta 13), pack-reused 285\u001b[K\n",
            "Receiving objects: 100% (315/315), 6.32 MiB | 6.04 MiB/s, done.\n",
            "Resolving deltas: 100% (101/101), done.\n",
            "Submodule 'libcoral' (https://github.com/google-coral/libcoral) registered for path 'libcoral'\n",
            "Submodule 'libedgetpu' (https://github.com/google-coral/libedgetpu) registered for path 'libedgetpu'\n",
            "Submodule 'test_data' (https://github.com/google-coral/test_data) registered for path 'test_data'\n",
            "Cloning into '/content/pycoral/libcoral'...\n",
            "remote: Enumerating objects: 409, done.        \n",
            "remote: Counting objects: 100% (56/56), done.        \n",
            "remote: Compressing objects: 100% (40/40), done.        \n",
            "remote: Total 409 (delta 22), reused 16 (delta 16), pack-reused 353        \n",
            "Receiving objects: 100% (409/409), 8.86 MiB | 9.57 MiB/s, done.\n",
            "Resolving deltas: 100% (176/176), done.\n",
            "Cloning into '/content/pycoral/libedgetpu'...\n",
            "remote: Enumerating objects: 871, done.        \n",
            "remote: Counting objects: 100% (87/87), done.        \n",
            "remote: Compressing objects: 100% (45/45), done.        \n",
            "remote: Total 871 (delta 57), reused 42 (delta 42), pack-reused 784        \n",
            "Receiving objects: 100% (871/871), 3.13 MiB | 2.67 MiB/s, done.\n",
            "Resolving deltas: 100% (540/540), done.\n",
            "Cloning into '/content/pycoral/test_data'...\n",
            "remote: Enumerating objects: 476, done.        \n",
            "remote: Total 476 (delta 0), reused 0 (delta 0), pack-reused 476        \n",
            "Receiving objects: 100% (476/476), 1.11 GiB | 30.16 MiB/s, done.\n",
            "Resolving deltas: 100% (172/172), done.\n",
            "Submodule path 'libcoral': checked out '6589d0bb49c7fdbc4194ce178d06f8cdc7b5df60'\n",
            "Submodule 'libedgetpu' (https://github.com/google-coral/libedgetpu) registered for path 'libcoral/libedgetpu'\n",
            "Submodule 'test_data' (https://github.com/google-coral/test_data) registered for path 'libcoral/test_data'\n",
            "Cloning into '/content/pycoral/libcoral/libedgetpu'...\n",
            "remote: Enumerating objects: 871, done.        \n",
            "remote: Counting objects: 100% (87/87), done.        \n",
            "remote: Compressing objects: 100% (45/45), done.        \n",
            "remote: Total 871 (delta 57), reused 42 (delta 42), pack-reused 784        \n",
            "Receiving objects: 100% (871/871), 3.13 MiB | 2.60 MiB/s, done.\n",
            "Resolving deltas: 100% (540/540), done.\n",
            "Cloning into '/content/pycoral/libcoral/test_data'...\n",
            "remote: Enumerating objects: 476, done.        \n",
            "remote: Total 476 (delta 0), reused 0 (delta 0), pack-reused 476        \n",
            "Receiving objects: 100% (476/476), 1.11 GiB | 20.30 MiB/s, done.\n",
            "Resolving deltas: 100% (172/172), done.\n",
            "Submodule path 'libcoral/libedgetpu': checked out '3164995622300286ef2bb14d7fdc2792dae045b7'\n",
            "Submodule path 'libcoral/test_data': checked out '104342d2d3480b3e66203073dac24f4e2dbb4c41'\n",
            "Submodule path 'libedgetpu': checked out 'ddfa7bde33c23afd8c2892182faa3e5b4e6ad94e'\n",
            "Submodule path 'test_data': checked out '104342d2d3480b3e66203073dac24f4e2dbb4c41'\n"
          ]
        }
      ]
    },
    {
      "cell_type": "code",
      "source": [
        "!pycoral/scripts/build.sh"
      ],
      "metadata": {
        "colab": {
          "base_uri": "https://localhost:8080/"
        },
        "id": "FIrzfSne-Wms",
        "outputId": "c185a924-ee60-4760-d48e-0253f00bbf94"
      },
      "execution_count": 48,
      "outputs": [
        {
          "output_type": "stream",
          "name": "stdout",
          "text": [
            "+++ dirname pycoral/scripts/build.sh\n",
            "++ cd pycoral/scripts\n",
            "++ pwd\n",
            "+ readonly SCRIPT_DIR=/content/pycoral/scripts\n",
            "+ SCRIPT_DIR=/content/pycoral/scripts\n",
            "+ readonly MAKEFILE=/content/pycoral/scripts/../Makefile\n",
            "+ MAKEFILE=/content/pycoral/scripts/../Makefile\n",
            "+ readonly 'DOCKER_CPUS=k8 aarch64 armv7a'\n",
            "+ DOCKER_CPUS='k8 aarch64 armv7a'\n",
            "+ PYTHON_VERSIONS='36 37 38 39'\n",
            "+ [[ 0 -gt 0 ]]\n",
            "+ for python_version in ${PYTHON_VERSIONS}\n",
            "++ docker_image 36\n",
            "++ case $1 in\n",
            "++ echo ubuntu:18.04\n",
            "+ make 'DOCKER_CPUS=k8 aarch64 armv7a' DOCKER_IMAGE=ubuntu:18.04 'DOCKER_TARGETS=pybind tflite wheel tflite-wheel' -f /content/pycoral/scripts/../Makefile docker-build\n",
            "docker build  -t \"coral-edgetpu-ubuntu-18.04\" \\\n",
            "    --build-arg IMAGE=ubuntu:18.04 /content/pycoral/libcoral/docker\n",
            "/bin/bash: line 1: docker: command not found\n",
            "make: *** [/content/pycoral/libcoral/docker/docker.mk:31: docker-image] Error 127\n"
          ]
        }
      ]
    }
  ],
  "metadata": {
    "accelerator": "GPU",
    "colab": {
      "collapsed_sections": [
        "license"
      ],
      "provenance": [],
      "gpuType": "T4"
    },
    "kernelspec": {
      "display_name": "Python 3",
      "name": "python3"
    }
  },
  "nbformat": 4,
  "nbformat_minor": 0
}